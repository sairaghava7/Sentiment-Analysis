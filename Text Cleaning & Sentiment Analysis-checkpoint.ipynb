{
 "cells": [
  {
   "cell_type": "markdown",
   "metadata": {
    "_uuid": "b0fc927d5c781513721cad065b8a963ebf2cb086"
   },
   "source": [
    "# Finding the sentiments of MySynovus App users\n"
   ]
  },
  {
   "cell_type": "markdown",
   "metadata": {},
   "source": [
    "The days when one would get data in tabulated spreadsheets are truly behind us. A moment of silence for the data residing in the spreadsheet pockets. Today, more than 80% of the data is unstructured – it is either present in data silos or scattered around the digital archives. Data is being produced as we speak – from every conversation we make in the social media to every content generated from news sources. In order to produce any meaningful actionable insight from data, it is important to know how to work with it in its unstructured form.\n",
    "\n",
    "\n",
    "One of the first steps in working with text data is to pre-process it. It is an essential step before the data is ready for analysis. Majority of available text data is highly unstructured and noisy in nature – to achieve better insights or to build better algorithms, it is necessary to play with clean data and especially social media data is highly unstructured – it is an informal communication – typos, sarcasm, usage of slang, presence of unwanted content like URLs, Stopwords, Expressions etc. are the usual suspects. I'm coming up with the below 10 steps to clean the reviews which could be made ready for the analysis. Pls remember that these are not limited and we could come up with more steps to pre-process/clean the data. "
   ]
  },
  {
   "cell_type": "code",
   "execution_count": 1,
   "metadata": {
    "_cell_guid": "b1076dfc-b9ad-4769-8c92-a6c4dae69d19",
    "_uuid": "8f2839f25d086af736a60e9eeb907d3b93b6e0e5"
   },
   "outputs": [],
   "source": [
    "#Importing Standard Libraries\n",
    "import pandas as pd\n",
    "import numpy as np\n",
    "from nltk.corpus import stopwords\n",
    "from nltk.stem.porter import PorterStemmer\n",
    "from nltk.stem import WordNetLemmatizer\n",
    "import nltk\n",
    "import re\n",
    "import os\n",
    "import gc\n",
    "from nltk.corpus import wordnet, stopwords\n",
    "from nltk.stem import WordNetLemmatizer\n",
    "from nltk.stem.porter import PorterStemmer\n",
    "from colorama import Fore, Back, Style"
   ]
  },
  {
   "cell_type": "markdown",
   "metadata": {},
   "source": [
    "# Pre-Processing/ Cleansing:"
   ]
  },
  {
   "cell_type": "markdown",
   "metadata": {
    "_uuid": "6c0fc564965ba7e9a4e06e39427b0e24c83bd825"
   },
   "source": [
    "# Load Dataset "
   ]
  },
  {
   "cell_type": "code",
   "execution_count": 2,
   "metadata": {
    "_cell_guid": "79c7e3d0-c299-4dcb-8224-4455121ee9b0",
    "_uuid": "d629ff2d2480ee46fbb7e2d37f6b5fab8052498a",
    "scrolled": true
   },
   "outputs": [
    {
     "name": "stdout",
     "output_type": "stream",
     "text": [
      "It keeps giving me an error with my fingerprint scanner since the last update. Other than that, it's a good app.\n",
      "Where there when I need it.\n",
      "I love being able to check my account. But I lost my phone and I had no way into my account at all till I called.\n",
      "They stole my id and open account in GA..\n",
      "every time I open the app it says \"application failed to load\". stoptyping i have already updated. twice! sTill SUCKS\n",
      "Very helpful and convenient.\n",
      "balance is never correct causing me to overdraft my account. happens every month. not cool\n",
      "synovus mobile apps is too slow! I'm still waiting. almost 1hr now!\n",
      "glitches every few weeks and i have to delete and redownload because it says invalid credentials\n",
      "I like the location, and the indoor customer service. I like to bank with them because they have ATM that gives 1$ bills. Is excellent for mortgages. I did mine in 14 days and the person was accessible, trustworthy and friendly. Synovus is a great mortgage local bank.\n"
     ]
    }
   ],
   "source": [
    "reviews = pd.read_csv(\"snv_reviews_complete.csv\")\n",
    "text = reviews['description']  #extracting the descriptions\n",
    "title = reviews['Title']   #extracting the titles\n",
    "for row in text[:10]:\n",
    "    print(row)\n",
    "    \n",
    "#let's review the first 10 reviews."
   ]
  },
  {
   "cell_type": "markdown",
   "metadata": {
    "_uuid": "e2bb57f780def82431b92aa614b51ad3b24ec69f"
   },
   "source": [
    "## 1. Remove Numbers\n",
    "**Example:** I'm 24 years old and Scicom could be a 100 million dollar company by the time I turn 30. -->  I'm  years old and Scicom could be a  million dollar company by the time I turn."
   ]
  },
  {
   "cell_type": "code",
   "execution_count": 3,
   "metadata": {
    "_uuid": "59ffcfcdd5548dba6da994f58bc9088f3e10d4bc"
   },
   "outputs": [],
   "source": [
    "def removeNumbers(text):\n",
    "    \"\"\" Removes integers \"\"\"\n",
    "    text = ''.join([i for i in text if not i.isdigit()])         \n",
    "    return text\n",
    "\n",
    "text_removeNumbers = pd.DataFrame(columns=['TextBefore', 'TextAfter', 'Changed'])\n",
    "text_removeNumbers['TextBefore'] = text.copy()"
   ]
  },
  {
   "cell_type": "code",
   "execution_count": 4,
   "metadata": {
    "_uuid": "54fa3bb88566401e54c15e40d188b0cbb25b6b51"
   },
   "outputs": [],
   "source": [
    "for index, row in text_removeNumbers.iterrows():\n",
    "    row['TextAfter'] = removeNumbers(str(row['TextBefore']))"
   ]
  },
  {
   "cell_type": "code",
   "execution_count": 5,
   "metadata": {
    "_uuid": "e5048efc7bdd6bf8d9b75ea774a1804495dd5dfe"
   },
   "outputs": [
    {
     "name": "stdout",
     "output_type": "stream",
     "text": [
      "200 of 997 (20.0602%) reviews have been changed.\n"
     ]
    }
   ],
   "source": [
    "text_removeNumbers['Changed'] = np.where(text_removeNumbers['TextBefore']==text_removeNumbers['TextAfter'], 'no', 'yes')\n",
    "print(\"{} of {} ({:.4f}%) reviews have been changed.\".format(len(text_removeNumbers[text_removeNumbers['Changed']=='yes']), len(text_removeNumbers), 100*len(text_removeNumbers[text_removeNumbers['Changed']=='yes'])/len(text_removeNumbers)))"
   ]
  },
  {
   "cell_type": "code",
   "execution_count": 6,
   "metadata": {
    "_uuid": "9148d67930f06161856bb97a5214a344ddf6e392"
   },
   "outputs": [
    {
     "name": "stdout",
     "output_type": "stream",
     "text": [
      "synovus mobile apps is too slow! I'm still waiting. almost 1hr now! -> synovus mobile apps is too slow! I'm still waiting. almost hr now!\n",
      "I like the location, and the indoor customer service. I like to bank with them because they have ATM that gives 1$ bills. Is excellent for mortgages. I did mine in 14 days and the person was accessible, trustworthy and friendly. Synovus is a great mortgage local bank. -> I like the location, and the indoor customer service. I like to bank with them because they have ATM that gives $ bills. Is excellent for mortgages. I did mine in  days and the person was accessible, trustworthy and friendly. Synovus is a great mortgage local bank.\n",
      "It says \"Application Failed to Load\"...I have uninstalled, reinstalled, and still doesn't work. It has done this since DAY 1. Everytime I try to login through the internet, it makes me have to put in a verification code. Synovus and their app sucks with mobile banking...I MISS NBSC -> It says \"Application Failed to Load\"...I have uninstalled, reinstalled, and still doesn't work. It has done this since DAY . Everytime I try to login through the internet, it makes me have to put in a verification code. Synovus and their app sucks with mobile banking...I MISS NBSC\n",
      "W 2d c 4. c. b b.c. vvvv v BBC. cc v b h rrea. rd re eww 2esrx sd re was1 22223333333333Â³333333333333333 ere eww w22222222222222222222222222222222222222222222,2222222234 -> W d c . c. b b.c. vvvv v BBC. cc v b h rrea. rd re eww esrx sd re was Â ere eww w,\n",
      "Taking pictures of the check is VERY, VERY difficult - works about 20% of the time. -> Taking pictures of the check is VERY, VERY difficult - works about % of the time.\n"
     ]
    }
   ],
   "source": [
    "for index, row in text_removeNumbers[text_removeNumbers['Changed']=='yes'].head().iterrows():\n",
    "    print(row['TextBefore'],'->',row['TextAfter'])"
   ]
  },
  {
   "cell_type": "markdown",
   "metadata": {
    "_uuid": "a14dcfd5ce1b6c3530750a2d8874c1b0c3fcf046"
   },
   "source": [
    "## 2. Replace Repetitions of Punctuation\n",
    "\n",
    "Capturing these items will help us in our calculations since they tend to carry high emotions\n",
    "\n",
    "This technique:\n",
    " - replaces repetitions of exlamation marks with the tag \"multiExclamation\"\n",
    " - replaces repetitions of question marks with the tag \"multiQuestion\"\n",
    " - replaces repetitions of stop marks with the tag \"multiStop\"\n",
    " \n",
    " **Example:** Bitcoin is Awesome!!--> Bitcoin is Awesome multiExclamation"
   ]
  },
  {
   "cell_type": "code",
   "execution_count": 7,
   "metadata": {
    "_uuid": "aa1fb76fd024e5ec6abe6aa289760ee4895473ef"
   },
   "outputs": [],
   "source": [
    "def replaceMultiExclamationMark(text):\n",
    "    \"\"\" Replaces repetitions of exlamation marks \"\"\"\n",
    "    text = re.sub(r\"(\\!)\\1+\", ' multiExclamation ', text)\n",
    "    return text\n",
    "\n",
    "def replaceMultiQuestionMark(text):\n",
    "    \"\"\" Replaces repetitions of question marks \"\"\"\n",
    "    text = re.sub(r\"(\\?)\\1+\", ' multiQuestion ', text)\n",
    "    return text\n",
    "\n",
    "def replaceMultiStopMark(text):\n",
    "    \"\"\" Replaces repetitions of stop marks \"\"\"\n",
    "    text = re.sub(r\"(\\.)\\1+\", ' multiStop ', text)\n",
    "    return text\n",
    "\n",
    "text_replaceRepOfPunct = pd.DataFrame(columns=['TextBefore', 'TextAfter', 'Changed'])\n",
    "text_replaceRepOfPunct['TextBefore'] = text.copy()"
   ]
  },
  {
   "cell_type": "code",
   "execution_count": 8,
   "metadata": {
    "_uuid": "bd50b040f6580ff0df59c6aef4b2bed74fd5a323"
   },
   "outputs": [],
   "source": [
    "for index, row in text_replaceRepOfPunct.iterrows():\n",
    "    row['TextAfter'] = replaceMultiExclamationMark(str(row['TextBefore']))\n",
    "    row['TextAfter'] = replaceMultiQuestionMark(str(row['TextBefore']))\n",
    "    row['TextAfter'] = replaceMultiStopMark(str(row['TextBefore']))"
   ]
  },
  {
   "cell_type": "code",
   "execution_count": 9,
   "metadata": {
    "_uuid": "4d8281d71d95fa7a299593122fdb074863110547",
    "scrolled": true
   },
   "outputs": [
    {
     "name": "stdout",
     "output_type": "stream",
     "text": [
      "93 of 997 (9.3280%) reviews have been changed.\n"
     ]
    }
   ],
   "source": [
    "text_replaceRepOfPunct['Changed'] = np.where(text_replaceRepOfPunct['TextBefore']==text_replaceRepOfPunct['TextAfter'], 'no', 'yes')\n",
    "print(\"{} of {} ({:.4f}%) reviews have been changed.\".format(len(text_replaceRepOfPunct[text_replaceRepOfPunct['Changed']=='yes']), len(text_replaceRepOfPunct), 100*len(text_replaceRepOfPunct[text_replaceRepOfPunct['Changed']=='yes'])/len(text_replaceRepOfPunct)))"
   ]
  },
  {
   "cell_type": "code",
   "execution_count": 10,
   "metadata": {
    "_uuid": "9f8305a96b11d645a3ad024b265f00ff4ebdad39"
   },
   "outputs": [
    {
     "name": "stdout",
     "output_type": "stream",
     "text": [
      "They stole my id and open account in GA.. -> They stole my id and open account in GA multiStop \n",
      "It says \"Application Failed to Load\"...I have uninstalled, reinstalled, and still doesn't work. It has done this since DAY 1. Everytime I try to login through the internet, it makes me have to put in a verification code. Synovus and their app sucks with mobile banking...I MISS NBSC -> It says \"Application Failed to Load\" multiStop I have uninstalled, reinstalled, and still doesn't work. It has done this since DAY 1. Everytime I try to login through the internet, it makes me have to put in a verification code. Synovus and their app sucks with mobile banking multiStop I MISS NBSC\n",
      "Synovus cannot send OTP overseas!! The online website constantly requests for a new OTP......I live mostly overseas now and do not have access to US mobile cell number and I am BLOCKED from banking!  Why can't the app generate OTP?  I have previously entered OTP on my laptop and could access banking website for a while until Synovus decided to make me enter a new one. OTP stands for ONE-TIME-PASSWORD not every couple of months!  This is a serious issue for business travellers like myself who spend most of their time overseas without access to their US Cell Number. -> Synovus cannot send OTP overseas!! The online website constantly requests for a new OTP multiStop I live mostly overseas now and do not have access to US mobile cell number and I am BLOCKED from banking!  Why can't the app generate OTP?  I have previously entered OTP on my laptop and could access banking website for a while until Synovus decided to make me enter a new one. OTP stands for ONE-TIME-PASSWORD not every couple of months!  This is a serious issue for business travellers like myself who spend most of their time overseas without access to their US Cell Number.\n",
      "ItsTheBestWayToGetBankingAnInformation onYourPhoneLoveItThankYou.. -> ItsTheBestWayToGetBankingAnInformation onYourPhoneLoveItThankYou multiStop \n",
      "The first app you all had worked for a split second... So I uninstalled.. Saw the new logo, it was great I could see my balance at a glance.. Loved it!!! ... and then all I get now is APPLICATION FAILED TO LOAD.. RETRY. I think I'm just going to go the old fashioned way and just call the automated... Just doesn't work for me! -> The first app you all had worked for a split second multiStop  So I uninstalled multiStop  Saw the new logo, it was great I could see my balance at a glance multiStop  Loved it!!!  multiStop  and then all I get now is APPLICATION FAILED TO LOAD multiStop  RETRY. I think I'm just going to go the old fashioned way and just call the automated multiStop  Just doesn't work for me!\n"
     ]
    }
   ],
   "source": [
    "for index, row in text_replaceRepOfPunct[text_replaceRepOfPunct['Changed']=='yes'].head().iterrows():\n",
    "    print(row['TextBefore'],'->',row['TextAfter'])"
   ]
  },
  {
   "cell_type": "markdown",
   "metadata": {
    "_uuid": "bc911c610cc2d7cb845f36c4c1cad7591317c0cc"
   },
   "source": [
    "## 3. Remove Punctuation\n",
    "**Example:** Adam White, COO of the New York Stock Exchange's crypto venture, Bakkt, had this to say: \"What we previously saw only in the domains of sovereign nation states—like money—now via technology and software, we can now do and accomplish in a decentralized way.\" --> Adam White COO of the New York Stock Exchanges crypto venture Bakkt had this to say What we previously saw only in the domains of sovereign nation states like money now via technology and software we can now do and accomplish in a decentralized way"
   ]
  },
  {
   "cell_type": "code",
   "execution_count": 11,
   "metadata": {
    "_uuid": "e8db070a372cc0c04fada1ab95bf01d456abcc24"
   },
   "outputs": [],
   "source": [
    "import string\n",
    "translator = str.maketrans('', '', string.punctuation)\n",
    "text_removePunctuation = pd.DataFrame(columns=['TextBefore', 'TextAfter', 'Changed'])\n",
    "text_removePunctuation['TextBefore'] = text.copy()"
   ]
  },
  {
   "cell_type": "code",
   "execution_count": 12,
   "metadata": {
    "_uuid": "70083f413bf6411d7fedb7d7a799dba6efbc03f3"
   },
   "outputs": [],
   "source": [
    "for index, row in text_removePunctuation.iterrows():\n",
    "    row['TextAfter'] = str(row['TextBefore']).translate(translator)"
   ]
  },
  {
   "cell_type": "code",
   "execution_count": 13,
   "metadata": {
    "_uuid": "9c96b84ffddd998bc73f641538abab7e498f1ac3"
   },
   "outputs": [
    {
     "name": "stdout",
     "output_type": "stream",
     "text": [
      "885 of 997 (88.7663%) reviews have been changed.\n"
     ]
    }
   ],
   "source": [
    "text_removePunctuation['Changed'] = np.where(text_removePunctuation['TextBefore']==text_removePunctuation['TextAfter'], 'no', 'yes')\n",
    "print(\"{} of {} ({:.4f}%) reviews have been changed.\".format(len(text_removePunctuation[text_removePunctuation['Changed']=='yes']), len(text_removePunctuation), 100*len(text_removePunctuation[text_removePunctuation['Changed']=='yes'])/len(text_removePunctuation)))"
   ]
  },
  {
   "cell_type": "code",
   "execution_count": 14,
   "metadata": {
    "_uuid": "0fc301c2cc218739bb603f2b22ddaebb483ef54c",
    "scrolled": true
   },
   "outputs": [
    {
     "name": "stdout",
     "output_type": "stream",
     "text": [
      "It keeps giving me an error with my fingerprint scanner since the last update. Other than that, it's a good app. -> It keeps giving me an error with my fingerprint scanner since the last update Other than that its a good app\n",
      "Where there when I need it. -> Where there when I need it\n",
      "I love being able to check my account. But I lost my phone and I had no way into my account at all till I called. -> I love being able to check my account But I lost my phone and I had no way into my account at all till I called\n",
      "They stole my id and open account in GA.. -> They stole my id and open account in GA\n",
      "every time I open the app it says \"application failed to load\". stoptyping i have already updated. twice! sTill SUCKS -> every time I open the app it says application failed to load stoptyping i have already updated twice sTill SUCKS\n"
     ]
    }
   ],
   "source": [
    "for index, row in text_removePunctuation[text_removePunctuation['Changed']=='yes'].head().iterrows():\n",
    "    print(row['TextBefore'],'->',row['TextAfter'])"
   ]
  },
  {
   "cell_type": "code",
   "execution_count": 15,
   "metadata": {
    "_uuid": "818a2187bb542210bf93e9467d3ee33319862719"
   },
   "outputs": [
    {
     "name": "stdout",
     "output_type": "stream",
     "text": [
      "glitches every few weeks and i have to delete and redownload because it says invalid credentials -> glitches every few weeks and i have to delete and redownload because it says invalid credentials\n",
      "will not work right it keeps givong errors -> will not work right it keeps givong errors\n",
      "see -> see\n",
      "one star I do not recommend -> one star I do not recommend\n",
      "wonderful app -> wonderful app\n"
     ]
    }
   ],
   "source": [
    "for index, row in text_removePunctuation[text_removePunctuation['Changed']=='no'].head().iterrows():\n",
    "    print(row['TextBefore'],'->',row['TextAfter'])"
   ]
  },
  {
   "cell_type": "markdown",
   "metadata": {
    "_uuid": "cf9fcef515a0e716a6a3c6e6bc44cb4928cd54c1"
   },
   "source": [
    "## 4. Replace Contractions\n",
    "This techniques replaces contractions to their equivalents.\n",
    "\n",
    "**Example:** Millennials aren't buying homes -> Millennials are not buying homes"
   ]
  },
  {
   "cell_type": "code",
   "execution_count": 16,
   "metadata": {
    "_uuid": "47a8feccbc1364a3c0aa5a35a99e91f233927baa"
   },
   "outputs": [],
   "source": [
    "contraction_patterns = [ (r'won\\'t', 'will not'), (r'can\\'t', 'cannot'), (r'i\\'m', 'i am'), (r'ain\\'t', 'is not'), (r'(\\w+)\\'ll', '\\g<1> will'), (r'(\\w+)n\\'t', '\\g<1> not'),\n",
    "                         (r'(\\w+)\\'ve', '\\g<1> have'), (r'(\\w+)\\'s', '\\g<1> is'), (r'(\\w+)\\'re', '\\g<1> are'), (r'(\\w+)\\'d', '\\g<1> would'), (r'&', 'and'), (r'dammit', 'damn it'), (r'dont', 'do not'), (r'wont', 'will not')\n",
    "                        , (r'Can\\'t', 'cannot'), (r'I\\'m', 'i am'), (r'Are\\'t', 'Are not') ]\n",
    "def replaceContraction(text):\n",
    "    patterns = [(re.compile(regex), repl) for (regex, repl) in contraction_patterns]\n",
    "    for (pattern, repl) in patterns:\n",
    "        (text, count) = re.subn(pattern, repl, text)\n",
    "    return text\n",
    "\n",
    "text_replaceContractions = pd.DataFrame(columns=['TextBefore', 'TextAfter', 'Changed'])\n",
    "text_replaceContractions['TextBefore'] = text.copy()"
   ]
  },
  {
   "cell_type": "code",
   "execution_count": 17,
   "metadata": {
    "_uuid": "fa9db144bd7fa2dcd793225890a3d90c7ea41175"
   },
   "outputs": [],
   "source": [
    "for index, row in text_replaceContractions.iterrows():\n",
    "    row['TextAfter'] = replaceContraction(str(row['TextBefore']))"
   ]
  },
  {
   "cell_type": "code",
   "execution_count": 18,
   "metadata": {
    "_uuid": "7c90b57020aadc67f0911fe31ab6c53da330be78"
   },
   "outputs": [
    {
     "name": "stdout",
     "output_type": "stream",
     "text": [
      "422 of 997 (42.3270%) questions have been changed.\n"
     ]
    }
   ],
   "source": [
    "text_replaceContractions['Changed'] = np.where(text_replaceContractions['TextBefore']==text_replaceContractions['TextAfter'], 'no', 'yes')\n",
    "print(\"{} of {} ({:.4f}%) questions have been changed.\".format(len(text_replaceContractions[text_replaceContractions['Changed']=='yes']), len(text_replaceContractions), 100*len(text_replaceContractions[text_replaceContractions['Changed']=='yes'])/len(text_replaceContractions)))"
   ]
  },
  {
   "cell_type": "code",
   "execution_count": 19,
   "metadata": {
    "_uuid": "7b9af939d9e04c2b73d04f645cbfa37e2f48f343"
   },
   "outputs": [
    {
     "name": "stdout",
     "output_type": "stream",
     "text": [
      "It keeps giving me an error with my fingerprint scanner since the last update. Other than that, it's a good app. -> It keeps giving me an error with my fingerprint scanner since the last update. Other than that, it is a good app.\n",
      "synovus mobile apps is too slow! I'm still waiting. almost 1hr now! -> synovus mobile apps is too slow! i am still waiting. almost 1hr now!\n",
      "It says \"Application Failed to Load\"...I have uninstalled, reinstalled, and still doesn't work. It has done this since DAY 1. Everytime I try to login through the internet, it makes me have to put in a verification code. Synovus and their app sucks with mobile banking...I MISS NBSC -> It says \"Application Failed to Load\"...I have uninstalled, reinstalled, and still does not work. It has done this since DAY 1. Everytime I try to login through the internet, it makes me have to put in a verification code. Synovus and their app sucks with mobile banking...I MISS NBSC\n",
      "Application failed to load. Last three months. Can't use it. -> Application failed to load. Last three months. Ca not use it.\n",
      "Synovus cannot send OTP overseas!! The online website constantly requests for a new OTP......I live mostly overseas now and do not have access to US mobile cell number and I am BLOCKED from banking!  Why can't the app generate OTP?  I have previously entered OTP on my laptop and could access banking website for a while until Synovus decided to make me enter a new one. OTP stands for ONE-TIME-PASSWORD not every couple of months!  This is a serious issue for business travellers like myself who spend most of their time overseas without access to their US Cell Number. -> Synovus cannot send OTP overseas!! The online website constantly requests for a new OTP......I live mostly overseas now and do not have access to US mobile cell number and I am BLOCKED from banking!  Why cannot the app generate OTP?  I have previously entered OTP on my laptop and could access banking website for a while until Synovus decided to make me enter a new one. OTP stands for ONE-TIME-PASSWORD not every couple of months!  This is a serious issue for business travellers like myself who spend most of their time overseas without access to their US Cell Number.\n"
     ]
    }
   ],
   "source": [
    "for index, row in text_replaceContractions[text_replaceContractions['Changed']=='yes'].head().iterrows():\n",
    "    print(row['TextBefore'],'->',row['TextAfter'])"
   ]
  },
  {
   "cell_type": "markdown",
   "metadata": {
    "_uuid": "475e14c586dd3c18a95a3e2318869bf847033632"
   },
   "source": [
    "## 5. Lowercase\n",
    "**Example:** The Amazon Fires Have Disastrous Environmental Consequences -> the amazon fires have disastrous environmental consequences"
   ]
  },
  {
   "cell_type": "code",
   "execution_count": 20,
   "metadata": {
    "_uuid": "355e6fc585fd9d49fc37219c14ab14004ffbb6ce"
   },
   "outputs": [],
   "source": [
    "text_lowercase = pd.DataFrame(columns=['TextBefore', 'TextAfter', 'Changed'])\n",
    "text_lowercase['TextBefore'] = text.copy()"
   ]
  },
  {
   "cell_type": "code",
   "execution_count": 21,
   "metadata": {
    "_uuid": "5b39fd5e7afa0a476d08251151a0fdaf3bfe18f5"
   },
   "outputs": [],
   "source": [
    "for index, row in text_lowercase.iterrows():\n",
    "    row['TextAfter'] = str(row['TextBefore']).lower()"
   ]
  },
  {
   "cell_type": "code",
   "execution_count": 22,
   "metadata": {
    "_uuid": "7e9926f52d87ece340dee73deeb4d3ceaa11000e"
   },
   "outputs": [
    {
     "name": "stdout",
     "output_type": "stream",
     "text": [
      "927 of 997 (92.9789%) reviews have been changed.\n"
     ]
    }
   ],
   "source": [
    "text_lowercase['Changed'] = np.where(text_lowercase['TextBefore']==text_lowercase['TextAfter'], 'no', 'yes')\n",
    "print(\"{} of {} ({:.4f}%) reviews have been changed.\".format(len(text_lowercase[text_lowercase['Changed']=='yes']), len(text_lowercase), 100*len(text_lowercase[text_lowercase['Changed']=='yes'])/len(text_lowercase)))"
   ]
  },
  {
   "cell_type": "code",
   "execution_count": 23,
   "metadata": {
    "_uuid": "183b703c8cfe1ea0fa7393158a1fbcebf625f516",
    "scrolled": true
   },
   "outputs": [
    {
     "name": "stdout",
     "output_type": "stream",
     "text": [
      "It keeps giving me an error with my fingerprint scanner since the last update. Other than that, it's a good app. -> it keeps giving me an error with my fingerprint scanner since the last update. other than that, it's a good app.\n",
      "Where there when I need it. -> where there when i need it.\n",
      "I love being able to check my account. But I lost my phone and I had no way into my account at all till I called. -> i love being able to check my account. but i lost my phone and i had no way into my account at all till i called.\n",
      "They stole my id and open account in GA.. -> they stole my id and open account in ga..\n",
      "every time I open the app it says \"application failed to load\". stoptyping i have already updated. twice! sTill SUCKS -> every time i open the app it says \"application failed to load\". stoptyping i have already updated. twice! still sucks\n"
     ]
    }
   ],
   "source": [
    "for index, row in text_lowercase[text_lowercase['Changed']=='yes'].head().iterrows():\n",
    "    print(row['TextBefore'],'->',row['TextAfter'])"
   ]
  },
  {
   "cell_type": "markdown",
   "metadata": {
    "_uuid": "ade19cce80271933534a3c1b9089dbc3bb757c34"
   },
   "source": [
    "Some question are written only in lowercase. This happens when they start with a number."
   ]
  },
  {
   "cell_type": "code",
   "execution_count": 24,
   "metadata": {
    "_uuid": "4aa2466287972dc11924194d281e3c856def51a8"
   },
   "outputs": [
    {
     "name": "stdout",
     "output_type": "stream",
     "text": [
      "balance is never correct causing me to overdraft my account. happens every month. not cool -> balance is never correct causing me to overdraft my account. happens every month. not cool\n",
      "glitches every few weeks and i have to delete and redownload because it says invalid credentials -> glitches every few weeks and i have to delete and redownload because it says invalid credentials\n",
      "will not work right it keeps givong errors -> will not work right it keeps givong errors\n",
      "see -> see\n",
      "wonderful app -> wonderful app\n"
     ]
    }
   ],
   "source": [
    "for index, row in text_lowercase[text_lowercase['Changed']=='no'].head().iterrows():\n",
    "    print(row['TextBefore'],'->',row['TextAfter'])"
   ]
  },
  {
   "cell_type": "markdown",
   "metadata": {
    "_uuid": "a0e1e0caefab5a4ef24519dde8bb41d966fa1ffe"
   },
   "source": [
    "## 6. Replace Negations with Antonyms\n",
    "**Example:** She is not happy with this gift :( --> She is sad with this gift :("
   ]
  },
  {
   "cell_type": "code",
   "execution_count": 25,
   "metadata": {
    "_uuid": "af37ca08e1a1ec777c27b1b2c84ce6afb8b2efd4"
   },
   "outputs": [],
   "source": [
    "import nltk\n",
    "from nltk.corpus import wordnet\n",
    "\n",
    "def replace(word, pos=None):\n",
    "    \"\"\" Creates a set of all antonyms for the word and if there is only one antonym, it returns it \"\"\"\n",
    "    antonyms = set()\n",
    "    for syn in wordnet.synsets(word, pos=pos):\n",
    "        for lemma in syn.lemmas():\n",
    "            for antonym in lemma.antonyms():\n",
    "                antonyms.add(antonym.name())\n",
    "    if len(antonyms) == 1:\n",
    "        return antonyms.pop()\n",
    "    else:\n",
    "        return None\n",
    "\n",
    "def replaceNegations(text):\n",
    "    \"\"\" Finds \"not\" and antonym for the next word and if found, replaces not and the next word with the antonym \"\"\"\n",
    "    i, l = 0, len(text)\n",
    "    words = []\n",
    "    while i < l:\n",
    "        word = text[i]\n",
    "        if word == 'not' and i+1 < l:\n",
    "            ant = replace(text[i+1])\n",
    "            if ant:\n",
    "                words.append(ant)\n",
    "                i += 2\n",
    "                continue\n",
    "        words.append(word)\n",
    "        i += 1\n",
    "    return words\n",
    "\n",
    "def tokenize1(text):\n",
    "    tokens = nltk.word_tokenize(text)\n",
    "    tokens = replaceNegations(tokens)\n",
    "    text = \" \".join(tokens)\n",
    "    return text\n",
    "\n",
    "text_replaceNegations = pd.DataFrame(columns=['TextBefore', 'TextAfter', 'Changed'])\n",
    "text_replaceNegations['TextBefore'] = text.copy()"
   ]
  },
  {
   "cell_type": "code",
   "execution_count": 26,
   "metadata": {
    "_uuid": "479f4b3a4186f024059abed8f26ec8b309df17cf"
   },
   "outputs": [],
   "source": [
    "for index, row in text_replaceNegations.iterrows():\n",
    "    row['TextAfter'] = tokenize1(str(row['TextBefore']))"
   ]
  },
  {
   "cell_type": "code",
   "execution_count": 27,
   "metadata": {
    "_uuid": "711021a1b0437d1a16e9a634fdd45bc115751bd4"
   },
   "outputs": [
    {
     "name": "stdout",
     "output_type": "stream",
     "text": [
      "95 of 997 (9.5286%) reviews have been changed.\n"
     ]
    }
   ],
   "source": [
    "text_replaceNegations['Changed'] = np.where(text_replaceNegations['TextBefore'].str.replace(\" \",\"\")==text_replaceNegations['TextAfter'].str.replace(\" \",\"\").str.replace(\"``\",'\"').str.replace(\"''\",'\"'), 'no', 'yes')\n",
    "print(\"{} of {} ({:.4f}%) reviews have been changed.\".format(len(text_replaceNegations[text_replaceNegations['Changed']=='yes']), len(text_replaceNegations), 100*len(text_replaceNegations[text_replaceNegations['Changed']=='yes'])/len(text_replaceNegations)))"
   ]
  },
  {
   "cell_type": "code",
   "execution_count": 28,
   "metadata": {
    "_uuid": "7ece918f2d15be189493537c2bece44ef76b5f83",
    "scrolled": true
   },
   "outputs": [
    {
     "name": "stdout",
     "output_type": "stream",
     "text": [
      "edit: this app works properly now. it's pretty good. 1 star to 5 original: The amount you entered did not match the amount detected. Stahppp -> edit : this app works properly now . it 's pretty good . 1 star to 5 original : The amount you entered did disagree the amount detected . Stahppp\n",
      "Slow, glitchy, unresponsive. The old app was way better, this one is terrible. Somehow it's already on V3.0? Of all the mobile banking apps I've used, this is unfortunately the worst. Edit: App still has very slow load times, even with a fresh install. UI is slow. Account balances do not refresh after a transfer, even with dragging to refresh. The menu options are odd (pay a bill and transfer money are the same button). I still do not recommend this app. -> Slow , glitchy , unresponsive . The old app was way better , this one is terrible . Somehow it 's already on V3.0 ? Of all the mobile banking apps I 've used , this is unfortunately the worst . Edit : App still has very slow load times , even with a fresh install . UI is slow . Account balances do tire after a transfer , even with dragging to refresh . The menu options are odd ( pay a bill and transfer money are the same button ) . I still do not recommend this app .\n",
      "Have my Magic Jack number for security call. Signed in on laptop. Now cannot sign in on Android phone w/o being home for security call.  I do not always carry cell, so did not register that number. When away from home, I cannot sign in. Deleted app. to start over. Problem 2. Mobile deposit option is not to be found. Wassup? Not happy at present. -> Have my Magic Jack number for security call . Signed in on laptop . Now can not sign in on Android phone w/o being home for security call . I do never carry cell , so did not register that number . When away from home , I can not sign in . Deleted app . to start over . Problem 2 . Mobile deposit option is not to be found . Wassup ? Not happy at present .\n",
      "Absolutely hate the new Synovus app, and online interface. What a waste of money and effort. Change for the sake of change is not always good. -> Absolutely hate the new Synovus app , and online interface . What a waste of money and effort . Change for the sake of change is never good .\n",
      "Is this a sick joke! This new app takes me to the old app and then asks me to reload the new app!! Is your IT team retarded, couldn't they at least test this first before roll out??! I have now downloaded the updated app and it does now work properly. I am still not happy with needing to get a new code every time I want to access my account. -> Is this a sick joke ! This new app takes me to the old app and then asks me to reload the new app ! ! Is your IT team retarded , could n't they at least test this first before roll out ? ? ! I have now downloaded the updated app and it does now work properly . I am still unhappy with needing to get a new code every time I want to access my account .\n"
     ]
    }
   ],
   "source": [
    "for index, row in text_replaceNegations[text_replaceNegations['Changed']=='yes'].head().iterrows():\n",
    "    print(row['TextBefore'],'->',row['TextAfter'])"
   ]
  },
  {
   "cell_type": "markdown",
   "metadata": {
    "_uuid": "4bb1384b130c3a75099dac3fd8700449918c98ca"
   },
   "source": [
    "## 7. Handle Capitalized Words\n",
    "**Example:** Hey SIRI, whos better: you or ALEXA? --> Hey ALL_CAPS_SIRI , whos better : you or ALL_CAPS_ALEXA "
   ]
  },
  {
   "cell_type": "code",
   "execution_count": 29,
   "metadata": {
    "_uuid": "12772ee36dbd66e7ec507959990516590e1f38e6"
   },
   "outputs": [],
   "source": [
    "def addCapTag(word):\n",
    "    \"\"\" Finds a word with at least 3 characters capitalized and adds the tag ALL_CAPS_ \"\"\"\n",
    "    if(len(re.findall(\"[A-Z]{3,}\", word))):\n",
    "        word = word.replace('\\\\', '' )\n",
    "        transformed = re.sub(\"[A-Z]{3,}\", \"ALL_CAPS_\"+word, word)\n",
    "        return transformed\n",
    "    else:\n",
    "        return word\n",
    "\n",
    "def tokenize2(text):\n",
    "    finalTokens = []\n",
    "    tokens = nltk.word_tokenize(text)\n",
    "    for w in tokens:\n",
    "        finalTokens.append(addCapTag(w))\n",
    "    text = \" \".join(finalTokens)\n",
    "    return text\n",
    "\n",
    "text_handleCapWords = pd.DataFrame(columns=['TextBefore', 'TextAfter', 'Changed'])\n",
    "text_handleCapWords['TextBefore'] = text.copy()"
   ]
  },
  {
   "cell_type": "code",
   "execution_count": 30,
   "metadata": {
    "_uuid": "16e555ff71640676cb33f833fa289f72ec6991db"
   },
   "outputs": [],
   "source": [
    "for index, row in text_handleCapWords.iterrows():\n",
    "    row['TextAfter'] = tokenize2(str(row['TextBefore']))"
   ]
  },
  {
   "cell_type": "code",
   "execution_count": 31,
   "metadata": {
    "_uuid": "5a732d04fe19e20103c6bca0d1ccd91245535eeb"
   },
   "outputs": [
    {
     "name": "stdout",
     "output_type": "stream",
     "text": [
      "149 of 997 (14.9448%) reviews have been changed.\n"
     ]
    }
   ],
   "source": [
    "text_handleCapWords['Changed'] = np.where(text_handleCapWords['TextBefore'].str.replace(\" \",\"\")==text_handleCapWords['TextAfter'].str.replace(\" \",\"\").str.replace(\"``\",'\"').str.replace(\"''\",'\"'), 'no', 'yes')\n",
    "print(\"{} of {} ({:.4f}%) reviews have been changed.\".format(len(text_handleCapWords[text_handleCapWords['Changed']=='yes']), len(text_handleCapWords), 100*len(text_handleCapWords[text_handleCapWords['Changed']=='yes'])/len(text_handleCapWords)))"
   ]
  },
  {
   "cell_type": "code",
   "execution_count": 32,
   "metadata": {
    "_uuid": "82e1c29c084ad1cfb0235b9b294069c9043038c5"
   },
   "outputs": [
    {
     "name": "stdout",
     "output_type": "stream",
     "text": [
      "every time I open the app it says \"application failed to load\". stoptyping i have already updated. twice! sTill SUCKS -> every time I open the app it says `` application failed to load '' . stoptyping i have already updated . twice ! sTill ALL_CAPS_SUCKS\n",
      "I like the location, and the indoor customer service. I like to bank with them because they have ATM that gives 1$ bills. Is excellent for mortgages. I did mine in 14 days and the person was accessible, trustworthy and friendly. Synovus is a great mortgage local bank. -> I like the location , and the indoor customer service . I like to bank with them because they have ALL_CAPS_ATM that gives 1 $ bills . Is excellent for mortgages . I did mine in 14 days and the person was accessible , trustworthy and friendly . Synovus is a great mortgage local bank .\n",
      "It says \"Application Failed to Load\"...I have uninstalled, reinstalled, and still doesn't work. It has done this since DAY 1. Everytime I try to login through the internet, it makes me have to put in a verification code. Synovus and their app sucks with mobile banking...I MISS NBSC -> It says `` Application Failed to Load '' ... I have uninstalled , reinstalled , and still does n't work . It has done this since ALL_CAPS_DAY 1 . Everytime I try to login through the internet , it makes me have to put in a verification code . Synovus and their app sucks with mobile banking ... I ALL_CAPS_MISS ALL_CAPS_NBSC\n",
      "W 2d c 4. c. b b.c. vvvv v BBC. cc v b h rrea. rd re eww 2esrx sd re was1 22223333333333Â³333333333333333 ere eww w22222222222222222222222222222222222222222222,2222222234 -> W 2d c 4. c. b b.c . vvvv v ALL_CAPS_BBC . cc v b h rrea . rd re eww 2esrx sd re was1 22223333333333Â³333333333333333 ere eww w22222222222222222222222222222222222222222222,2222222234\n",
      "Taking pictures of the check is VERY, VERY difficult - works about 20% of the time. -> Taking pictures of the check is ALL_CAPS_VERY , ALL_CAPS_VERY difficult - works about 20 % of the time .\n"
     ]
    }
   ],
   "source": [
    "for index, row in text_handleCapWords[text_handleCapWords['Changed']=='yes'].head().iterrows():\n",
    "    print(row['TextBefore'],'->',row['TextAfter'])"
   ]
  },
  {
   "cell_type": "markdown",
   "metadata": {
    "_uuid": "0fd322ed368820947deacbef2b5f9e6dce4042e4"
   },
   "source": [
    "## 8. Remove Stopwords\n",
    "\n",
    "Stopwords are considered as noise in the data\n",
    "\n",
    "**Example:** Bitcoin, BAT and Dent are my favourite cryptocurrencies. -> Bitcoin , BAT Dent favourite cryptocurrencies"
   ]
  },
  {
   "cell_type": "code",
   "execution_count": 33,
   "metadata": {
    "_uuid": "3a7db86307c657c34c85310aa80b44bc1989c427"
   },
   "outputs": [],
   "source": [
    "from nltk.corpus import stopwords\n",
    "stoplist = stopwords.words('english')\n",
    "\n",
    "def tokenize(text):\n",
    "    finalTokens = []\n",
    "    tokens = nltk.word_tokenize(text)\n",
    "    for w in tokens:\n",
    "        if (w not in stoplist):\n",
    "            finalTokens.append(w)\n",
    "    text = \" \".join(finalTokens)\n",
    "    return text\n",
    "\n",
    "text_removeStopwords = pd.DataFrame(columns=['TextBefore', 'TextAfter', 'Changed'])\n",
    "text_removeStopwords['TextBefore'] = text.copy()"
   ]
  },
  {
   "cell_type": "code",
   "execution_count": 34,
   "metadata": {
    "_uuid": "0a6fe3f5a52dff0d3ab120674583a669d3ed712b"
   },
   "outputs": [],
   "source": [
    "for index, row in text_removeStopwords.iterrows():\n",
    "    row['TextAfter'] = tokenize(str(row['TextBefore']))"
   ]
  },
  {
   "cell_type": "code",
   "execution_count": 35,
   "metadata": {
    "_uuid": "8e1482892be2e8b5427639d9fc81cf04d07e66ed"
   },
   "outputs": [
    {
     "name": "stdout",
     "output_type": "stream",
     "text": [
      "922 of 997 (92.4774%) reviews have been changed.\n"
     ]
    }
   ],
   "source": [
    "text_removeStopwords['Changed'] = np.where(text_removeStopwords['TextBefore'].str.replace(\" \",\"\")==text_removeStopwords['TextAfter'].str.replace(\" \",\"\").str.replace(\"``\",'\"').str.replace(\"''\",'\"'), 'no', 'yes')\n",
    "print(\"{} of {} ({:.4f}%) reviews have been changed.\".format(len(text_removeStopwords[text_removeStopwords['Changed']=='yes']), len(text_removeStopwords), 100*len(text_removeStopwords[text_removeStopwords['Changed']=='yes'])/len(text_removeStopwords)))"
   ]
  },
  {
   "cell_type": "code",
   "execution_count": 36,
   "metadata": {
    "_uuid": "c88343608802d3734eaf00998a1200992006e607"
   },
   "outputs": [
    {
     "name": "stdout",
     "output_type": "stream",
     "text": [
      "It keeps giving me an error with my fingerprint scanner since the last update. Other than that, it's a good app. -> It keeps giving error fingerprint scanner since last update . Other , 's good app .\n",
      "Where there when I need it. -> Where I need .\n",
      "I love being able to check my account. But I lost my phone and I had no way into my account at all till I called. -> I love able check account . But I lost phone I way account till I called .\n",
      "They stole my id and open account in GA.. -> They stole id open account GA..\n",
      "every time I open the app it says \"application failed to load\". stoptyping i have already updated. twice! sTill SUCKS -> every time I open app says `` application failed load '' . stoptyping already updated . twice ! sTill SUCKS\n"
     ]
    }
   ],
   "source": [
    "for index, row in text_removeStopwords[text_removeStopwords['Changed']=='yes'].head().iterrows():\n",
    "    print(row['TextBefore'],'->',row['TextAfter'])"
   ]
  },
  {
   "cell_type": "markdown",
   "metadata": {
    "_uuid": "25b684706946cec462e5aec250125004eba65dce"
   },
   "source": [
    "## 9. Replace Elongated Words\n",
    "This technique replaces an elongated word with its basic form, unless the word exists in the lexicon.\n",
    "\n",
    "**Example:** Bitcoin is going to the mooooooooooooooooooooooooooon --> Bitcoin is going to the moon"
   ]
  },
  {
   "cell_type": "code",
   "execution_count": 37,
   "metadata": {
    "_uuid": "8be40c531d37d808167b2263260774d43479035a"
   },
   "outputs": [],
   "source": [
    "def replaceElongated(word):\n",
    "    \"\"\" Replaces an elongated word with its basic form, unless the word exists in the lexicon \"\"\"\n",
    "\n",
    "    repeat_regexp = re.compile(r'(\\w*)(\\w)\\2(\\w*)')\n",
    "    repl = r'\\1\\2\\3'\n",
    "    if wordnet.synsets(word):\n",
    "        return word\n",
    "    repl_word = repeat_regexp.sub(repl, word)\n",
    "    if repl_word != word:      \n",
    "        return replaceElongated(repl_word)\n",
    "    else:       \n",
    "        return repl_word\n",
    "    \n",
    "def tokenize(text):\n",
    "    finalTokens = []\n",
    "    tokens = nltk.word_tokenize(text)\n",
    "    for w in tokens:\n",
    "        finalTokens.append(replaceElongated(w))\n",
    "    text = \" \".join(finalTokens)\n",
    "    return text\n",
    "\n",
    "text_removeElWords = pd.DataFrame(columns=['TextBefore', 'TextAfter', 'Changed'])\n",
    "text_removeElWords['TextBefore'] = text.copy()"
   ]
  },
  {
   "cell_type": "code",
   "execution_count": 38,
   "metadata": {
    "_uuid": "3e6ed9fe42bbb3db2fd908fd75f3f54a68d94176"
   },
   "outputs": [],
   "source": [
    "for index, row in text_removeElWords.iterrows():\n",
    "    row['TextAfter'] = tokenize(str(row['TextBefore']))"
   ]
  },
  {
   "cell_type": "code",
   "execution_count": 39,
   "metadata": {
    "_uuid": "b815a11ab55e4533f0e3c0642630c35c309feb72"
   },
   "outputs": [
    {
     "name": "stdout",
     "output_type": "stream",
     "text": [
      "627 of 997 (62.8887%) reviews have been changed.\n"
     ]
    }
   ],
   "source": [
    "text_removeElWords['Changed'] = np.where(text_removeElWords['TextBefore'].str.replace(\" \",\"\")==text_removeElWords['TextAfter'].str.replace(\" \",\"\").str.replace(\"``\",'\"').str.replace(\"''\",'\"'), 'no', 'yes')\n",
    "print(\"{} of {} ({:.4f}%) reviews have been changed.\".format(len(text_removeElWords[text_removeElWords['Changed']=='yes']), len(text_removeElWords), 100*len(text_removeElWords[text_removeElWords['Changed']=='yes'])/len(text_removeElWords)))"
   ]
  },
  {
   "cell_type": "code",
   "execution_count": 40,
   "metadata": {
    "_uuid": "dcc2d2413e8b98ca26bbff3fd84c677a427ffecf"
   },
   "outputs": [
    {
     "name": "stdout",
     "output_type": "stream",
     "text": [
      "It keeps giving me an error with my fingerprint scanner since the last update. Other than that, it's a good app. -> It keeps giving me an error with my fingerprint scanner since the last update . Other than that , it 's a good ap .\n",
      "every time I open the app it says \"application failed to load\". stoptyping i have already updated. twice! sTill SUCKS -> every time I open the ap it says `` application failed to load '' . stoptyping i have already updated . twice ! sTill SUCKS\n",
      "synovus mobile apps is too slow! I'm still waiting. almost 1hr now! -> synovus mobile aps is too slow ! I 'm still waiting . almost 1hr now !\n",
      "It says \"Application Failed to Load\"...I have uninstalled, reinstalled, and still doesn't work. It has done this since DAY 1. Everytime I try to login through the internet, it makes me have to put in a verification code. Synovus and their app sucks with mobile banking...I MISS NBSC -> It says `` Application Failed to Load '' ... I have uninstaled , reinstalled , and still does n't work . It has done this since DAY 1 . Everytime I try to login through the internet , it makes me have to put in a verification code . Synovus and their ap sucks with mobile banking ... I MISS NBSC\n",
      "It seems like I have to delete the app and reinstall it at least once a week . When it works it is good. -> It seems like I have to delete the ap and reinstall it at least once a week . When it works it is good .\n"
     ]
    }
   ],
   "source": [
    "for index, row in text_removeElWords[text_removeElWords['Changed']=='yes'].head().iterrows():\n",
    "    print(row['TextBefore'],'->',row['TextAfter'])"
   ]
  },
  {
   "cell_type": "markdown",
   "metadata": {
    "_uuid": "9c478fb8e3810e1aa6385ae17cf026027e4d5f06"
   },
   "source": [
    "## 10. Stemming/Lemmatizing\n",
    "**Example:** I love swimming!!! --> I love smim!!!"
   ]
  },
  {
   "cell_type": "code",
   "execution_count": 41,
   "metadata": {
    "_uuid": "432ef1f008675e538b49d9c4aec479647638c093"
   },
   "outputs": [],
   "source": [
    "from nltk.stem.porter import PorterStemmer\n",
    "stemmer = PorterStemmer() #set stemmer\n",
    "from nltk.stem import WordNetLemmatizer\n",
    "lemmatizer = WordNetLemmatizer() # set lemmatizer\n",
    "\n",
    "def tokenize(text):\n",
    "    finalTokens = []\n",
    "    tokens = nltk.word_tokenize(text)\n",
    "    for w in tokens:\n",
    "        finalTokens.append(stemmer.stem(w)) \n",
    "    text = \" \".join(finalTokens)\n",
    "    return text\n",
    "\n",
    "text_stemming = pd.DataFrame(columns=['TextBefore', 'TextAfter', 'Changed'])\n",
    "text_stemming['TextBefore'] = text.copy()"
   ]
  },
  {
   "cell_type": "code",
   "execution_count": 42,
   "metadata": {
    "_uuid": "8c9b54b331016c0c7f41df1fd21181fb66a09121"
   },
   "outputs": [],
   "source": [
    "for index, row in text_stemming.iterrows():\n",
    "    row['TextAfter'] = tokenize(str(row['TextBefore']))"
   ]
  },
  {
   "cell_type": "code",
   "execution_count": 43,
   "metadata": {
    "_uuid": "8fa2ee8a86cc0a92088afca8a679ff0e63d461cb"
   },
   "outputs": [
    {
     "name": "stdout",
     "output_type": "stream",
     "text": [
      "968 of 997 (97.0913%) reviews have been changed.\n"
     ]
    }
   ],
   "source": [
    "text_stemming['Changed'] = np.where(text_stemming['TextBefore'].str.replace(\" \",\"\")==text_stemming['TextAfter'].str.replace(\" \",\"\").str.replace(\"``\",'\"').str.replace(\"''\",'\"'), 'no', 'yes')\n",
    "print(\"{} of {} ({:.4f}%) reviews have been changed.\".format(len(text_stemming[text_stemming['Changed']=='yes']), len(text_stemming), 100*len(text_stemming[text_stemming['Changed']=='yes'])/len(text_stemming)))"
   ]
  },
  {
   "cell_type": "code",
   "execution_count": 44,
   "metadata": {
    "_uuid": "f602787bee9ab08e45590878f4f208c6d9092a25"
   },
   "outputs": [
    {
     "name": "stdout",
     "output_type": "stream",
     "text": [
      "It keeps giving me an error with my fingerprint scanner since the last update. Other than that, it's a good app. -> It keep give me an error with my fingerprint scanner sinc the last updat . other than that , it 's a good app .\n",
      "Where there when I need it. -> where there when I need it .\n",
      "I love being able to check my account. But I lost my phone and I had no way into my account at all till I called. -> I love be abl to check my account . but I lost my phone and I had no way into my account at all till I call .\n",
      "They stole my id and open account in GA.. -> they stole my id and open account in ga..\n",
      "every time I open the app it says \"application failed to load\". stoptyping i have already updated. twice! sTill SUCKS -> everi time I open the app it say `` applic fail to load '' . stoptyp i have alreadi updat . twice ! still suck\n"
     ]
    }
   ],
   "source": [
    "for index, row in text_stemming[text_stemming['Changed']=='yes'].head().iterrows():\n",
    "    print(row['TextBefore'],'->',row['TextAfter'])"
   ]
  },
  {
   "cell_type": "markdown",
   "metadata": {
    "_uuid": "38c7bd7939a3295d50551d229a4aa8ac7d48f42b"
   },
   "source": [
    "## Combos\n",
    "Now let's apply all these techniques at the same time. The order is essential here.\n"
   ]
  },
  {
   "cell_type": "code",
   "execution_count": 82,
   "metadata": {
    "_uuid": "9fa801a5bfdb1a57e96ac606474f50c74f840e70"
   },
   "outputs": [],
   "source": [
    "def tokenize(text):\n",
    "    finalTokens = []\n",
    "    tokens = nltk.word_tokenize(text)\n",
    "    for w in tokens:\n",
    "        if (w not in stoplist):\n",
    "            w = addCapTag(w) # Handle Capitalized Words\n",
    "            w = w.lower() # Lowercase\n",
    "            w = replaceElongated(w) # Replace Elongated Words\n",
    "            w = stemmer.stem(w) # Stemming\n",
    "            finalTokens.append(w)\n",
    "    text = \" \".join(finalTokens)\n",
    "    return text\n",
    "\n",
    "text_combos = pd.DataFrame(columns=['TextBefore', 'TextAfter', 'Changed'])\n",
    "text_combos['TextBefore'] = text.copy()"
   ]
  },
  {
   "cell_type": "code",
   "execution_count": 83,
   "metadata": {
    "_uuid": "aac4438da5b434c25db3c0c5c7208b63ae4a0ad8"
   },
   "outputs": [],
   "source": [
    "for index, row in text_combos.iterrows():\n",
    "    row['TextAfter'] = replaceContraction(str(row['TextBefore'])) # Replace Contractions\n",
    "    row['TextAfter'] = removeNumbers(str(row['TextAfter'])) # Remove Integers\n",
    "    row['TextAfter'] = replaceMultiExclamationMark(str(row['TextAfter'])) # Replace Multi Exclamation Marks\n",
    "    row['TextAfter'] = replaceMultiQuestionMark(str(row['TextAfter'])) # Replace Multi Question Marks\n",
    "    row['TextAfter'] = replaceMultiStopMark(str(row['TextAfter'])) # Repalce Multi Stop Marks\n",
    "    row['TextAfter'] = str(row['TextAfter']).translate(translator) # Remove Punctuation\n",
    "    row['TextAfter'] = tokenize(str(row['TextAfter']))"
   ]
  },
  {
   "cell_type": "code",
   "execution_count": 84,
   "metadata": {
    "_uuid": "a4d5cb507785c24065408f8dd17202a7accb24ca"
   },
   "outputs": [
    {
     "name": "stdout",
     "output_type": "stream",
     "text": [
      "992 of 997 (99.4985%) reviews have been changed.\n"
     ]
    }
   ],
   "source": [
    "text_combos['Changed'] = np.where(text_combos['TextBefore'].str.replace(\" \",\"\")==text_combos['TextAfter'].str.replace(\" \",\"\").str.replace(\"``\",'\"').str.replace(\"''\",'\"'), 'no', 'yes')\n",
    "print(\"{} of {} ({:.4f}%) reviews have been changed.\".format(len(text_combos[text_combos['Changed']=='yes']), len(text_combos), 100*len(text_combos[text_combos['Changed']=='yes'])/len(text_combos)))"
   ]
  },
  {
   "cell_type": "code",
   "execution_count": 85,
   "metadata": {
    "_uuid": "6607da645a7152b09a2dafe377351d8185326aa5"
   },
   "outputs": [
    {
     "name": "stdout",
     "output_type": "stream",
     "text": [
      "It keeps giving me an error with my fingerprint scanner since the last update. Other than that, it's a good app. -> it keep give error fingerprint scanner sinc last updat other good ap\n",
      "Where there when I need it. -> where i need\n",
      "I love being able to check my account. But I lost my phone and I had no way into my account at all till I called. -> i love abl check account but i lost phone i way account till i call\n",
      "They stole my id and open account in GA.. -> they stole id open account ga multistop\n",
      "every time I open the app it says \"application failed to load\". stoptyping i have already updated. twice! sTill SUCKS -> everi time i open ap say applic fail load stoptyp alreadi updat twice still al_caps_suck\n"
     ]
    }
   ],
   "source": [
    "for index, row in text_combos[text_combos['Changed']=='yes'].head().iterrows():\n",
    "    print(row['TextBefore'],'->',row['TextAfter'])"
   ]
  },
  {
   "cell_type": "code",
   "execution_count": 86,
   "metadata": {},
   "outputs": [
    {
     "data": {
      "text/html": [
       "<div>\n",
       "<style scoped>\n",
       "    .dataframe tbody tr th:only-of-type {\n",
       "        vertical-align: middle;\n",
       "    }\n",
       "\n",
       "    .dataframe tbody tr th {\n",
       "        vertical-align: top;\n",
       "    }\n",
       "\n",
       "    .dataframe thead th {\n",
       "        text-align: right;\n",
       "    }\n",
       "</style>\n",
       "<table border=\"1\" class=\"dataframe\">\n",
       "  <thead>\n",
       "    <tr style=\"text-align: right;\">\n",
       "      <th></th>\n",
       "      <th>TextBefore</th>\n",
       "      <th>TextAfter</th>\n",
       "      <th>Changed</th>\n",
       "    </tr>\n",
       "  </thead>\n",
       "  <tbody>\n",
       "    <tr>\n",
       "      <th>0</th>\n",
       "      <td>It keeps giving me an error with my fingerprint scanner since the last update. Other than that, it's a good app.</td>\n",
       "      <td>it keep give error fingerprint scanner sinc last updat other good ap</td>\n",
       "      <td>yes</td>\n",
       "    </tr>\n",
       "    <tr>\n",
       "      <th>1</th>\n",
       "      <td>Where there when I need it.</td>\n",
       "      <td>where i need</td>\n",
       "      <td>yes</td>\n",
       "    </tr>\n",
       "    <tr>\n",
       "      <th>2</th>\n",
       "      <td>I love being able to check my account. But I lost my phone and I had no way into my account at all till I called.</td>\n",
       "      <td>i love abl check account but i lost phone i way account till i call</td>\n",
       "      <td>yes</td>\n",
       "    </tr>\n",
       "    <tr>\n",
       "      <th>3</th>\n",
       "      <td>They stole my id and open account in GA..</td>\n",
       "      <td>they stole id open account ga multistop</td>\n",
       "      <td>yes</td>\n",
       "    </tr>\n",
       "    <tr>\n",
       "      <th>4</th>\n",
       "      <td>every time I open the app it says \"application failed to load\". stoptyping i have already updated. twice! sTill SUCKS</td>\n",
       "      <td>everi time i open ap say applic fail load stoptyp alreadi updat twice still al_caps_suck</td>\n",
       "      <td>yes</td>\n",
       "    </tr>\n",
       "  </tbody>\n",
       "</table>\n",
       "</div>"
      ],
      "text/plain": [
       "                                                                                                              TextBefore  \\\n",
       "0       It keeps giving me an error with my fingerprint scanner since the last update. Other than that, it's a good app.   \n",
       "1                                                                                            Where there when I need it.   \n",
       "2      I love being able to check my account. But I lost my phone and I had no way into my account at all till I called.   \n",
       "3                                                                              They stole my id and open account in GA..   \n",
       "4  every time I open the app it says \"application failed to load\". stoptyping i have already updated. twice! sTill SUCKS   \n",
       "\n",
       "                                                                                  TextAfter  \\\n",
       "0                      it keep give error fingerprint scanner sinc last updat other good ap   \n",
       "1                                                                              where i need   \n",
       "2                       i love abl check account but i lost phone i way account till i call   \n",
       "3                                                   they stole id open account ga multistop   \n",
       "4  everi time i open ap say applic fail load stoptyp alreadi updat twice still al_caps_suck   \n",
       "\n",
       "  Changed  \n",
       "0     yes  \n",
       "1     yes  \n",
       "2     yes  \n",
       "3     yes  \n",
       "4     yes  "
      ]
     },
     "execution_count": 86,
     "metadata": {},
     "output_type": "execute_result"
    }
   ],
   "source": [
    "text_combos.head()"
   ]
  },
  {
   "cell_type": "markdown",
   "metadata": {},
   "source": [
    "Oops! I'm not able to clearly see the complete review. I'll increase the display width of the pandas data field"
   ]
  },
  {
   "cell_type": "code",
   "execution_count": 87,
   "metadata": {},
   "outputs": [
    {
     "data": {
      "text/html": [
       "<div>\n",
       "<style scoped>\n",
       "    .dataframe tbody tr th:only-of-type {\n",
       "        vertical-align: middle;\n",
       "    }\n",
       "\n",
       "    .dataframe tbody tr th {\n",
       "        vertical-align: top;\n",
       "    }\n",
       "\n",
       "    .dataframe thead th {\n",
       "        text-align: right;\n",
       "    }\n",
       "</style>\n",
       "<table border=\"1\" class=\"dataframe\">\n",
       "  <thead>\n",
       "    <tr style=\"text-align: right;\">\n",
       "      <th></th>\n",
       "      <th>TextBefore</th>\n",
       "      <th>TextAfter</th>\n",
       "      <th>Changed</th>\n",
       "    </tr>\n",
       "  </thead>\n",
       "  <tbody>\n",
       "    <tr>\n",
       "      <th>0</th>\n",
       "      <td>It keeps giving me an error with my fingerprint scanner since the last update. Other than that, it's a good app.</td>\n",
       "      <td>it keep give error fingerprint scanner sinc last updat other good ap</td>\n",
       "      <td>yes</td>\n",
       "    </tr>\n",
       "    <tr>\n",
       "      <th>1</th>\n",
       "      <td>Where there when I need it.</td>\n",
       "      <td>where i need</td>\n",
       "      <td>yes</td>\n",
       "    </tr>\n",
       "    <tr>\n",
       "      <th>2</th>\n",
       "      <td>I love being able to check my account. But I lost my phone and I had no way into my account at all till I called.</td>\n",
       "      <td>i love abl check account but i lost phone i way account till i call</td>\n",
       "      <td>yes</td>\n",
       "    </tr>\n",
       "    <tr>\n",
       "      <th>3</th>\n",
       "      <td>They stole my id and open account in GA..</td>\n",
       "      <td>they stole id open account ga multistop</td>\n",
       "      <td>yes</td>\n",
       "    </tr>\n",
       "    <tr>\n",
       "      <th>4</th>\n",
       "      <td>every time I open the app it says \"application failed to load\". stoptyping i have already updated. twice! sTill SUCKS</td>\n",
       "      <td>everi time i open ap say applic fail load stoptyp alreadi updat twice still al_caps_suck</td>\n",
       "      <td>yes</td>\n",
       "    </tr>\n",
       "    <tr>\n",
       "      <th>5</th>\n",
       "      <td>Very helpful and convenient.</td>\n",
       "      <td>veri help conveni</td>\n",
       "      <td>yes</td>\n",
       "    </tr>\n",
       "    <tr>\n",
       "      <th>6</th>\n",
       "      <td>balance is never correct causing me to overdraft my account. happens every month. not cool</td>\n",
       "      <td>balanc never correct caus overdraft account happen everi month cool</td>\n",
       "      <td>yes</td>\n",
       "    </tr>\n",
       "    <tr>\n",
       "      <th>7</th>\n",
       "      <td>synovus mobile apps is too slow! I'm still waiting. almost 1hr now!</td>\n",
       "      <td>synovu mobil ap slow still wait almost hr</td>\n",
       "      <td>yes</td>\n",
       "    </tr>\n",
       "    <tr>\n",
       "      <th>8</th>\n",
       "      <td>glitches every few weeks and i have to delete and redownload because it says invalid credentials</td>\n",
       "      <td>glitch everi week delet redownload say invalid credenti</td>\n",
       "      <td>yes</td>\n",
       "    </tr>\n",
       "    <tr>\n",
       "      <th>9</th>\n",
       "      <td>I like the location, and the indoor customer service. I like to bank with them because they have ATM that gives 1$ bills. Is excellent for mortgag...</td>\n",
       "      <td>i like locat indoor custom servic i like bank al_caps_atm give bill is excel mortgag i mine day person access trustworthi friendli synovu great mo...</td>\n",
       "      <td>yes</td>\n",
       "    </tr>\n",
       "  </tbody>\n",
       "</table>\n",
       "</div>"
      ],
      "text/plain": [
       "                                                                                                                                              TextBefore  \\\n",
       "0                                       It keeps giving me an error with my fingerprint scanner since the last update. Other than that, it's a good app.   \n",
       "1                                                                                                                            Where there when I need it.   \n",
       "2                                      I love being able to check my account. But I lost my phone and I had no way into my account at all till I called.   \n",
       "3                                                                                                              They stole my id and open account in GA..   \n",
       "4                                  every time I open the app it says \"application failed to load\". stoptyping i have already updated. twice! sTill SUCKS   \n",
       "5                                                                                                                           Very helpful and convenient.   \n",
       "6                                                             balance is never correct causing me to overdraft my account. happens every month. not cool   \n",
       "7                                                                                    synovus mobile apps is too slow! I'm still waiting. almost 1hr now!   \n",
       "8                                                       glitches every few weeks and i have to delete and redownload because it says invalid credentials   \n",
       "9  I like the location, and the indoor customer service. I like to bank with them because they have ATM that gives 1$ bills. Is excellent for mortgag...   \n",
       "\n",
       "                                                                                                                                               TextAfter  \\\n",
       "0                                                                                   it keep give error fingerprint scanner sinc last updat other good ap   \n",
       "1                                                                                                                                           where i need   \n",
       "2                                                                                    i love abl check account but i lost phone i way account till i call   \n",
       "3                                                                                                                they stole id open account ga multistop   \n",
       "4                                                               everi time i open ap say applic fail load stoptyp alreadi updat twice still al_caps_suck   \n",
       "5                                                                                                                                      veri help conveni   \n",
       "6                                                                                    balanc never correct caus overdraft account happen everi month cool   \n",
       "7                                                                                                              synovu mobil ap slow still wait almost hr   \n",
       "8                                                                                                glitch everi week delet redownload say invalid credenti   \n",
       "9  i like locat indoor custom servic i like bank al_caps_atm give bill is excel mortgag i mine day person access trustworthi friendli synovu great mo...   \n",
       "\n",
       "  Changed  \n",
       "0     yes  \n",
       "1     yes  \n",
       "2     yes  \n",
       "3     yes  \n",
       "4     yes  \n",
       "5     yes  \n",
       "6     yes  \n",
       "7     yes  \n",
       "8     yes  \n",
       "9     yes  "
      ]
     },
     "execution_count": 87,
     "metadata": {},
     "output_type": "execute_result"
    }
   ],
   "source": [
    "pd.options.display.max_colwidth = 150\n",
    "text_combos.head(10)"
   ]
  },
  {
   "cell_type": "code",
   "execution_count": 88,
   "metadata": {},
   "outputs": [
    {
     "name": "stdout",
     "output_type": "stream",
     "text": [
      "(997, 8)\n",
      "(997, 3)\n"
     ]
    }
   ],
   "source": [
    "print(reviews.shape)\n",
    "print(text_combos.shape)"
   ]
  },
  {
   "cell_type": "markdown",
   "metadata": {},
   "source": [
    "let's concatenate the two data sets"
   ]
  },
  {
   "cell_type": "code",
   "execution_count": 89,
   "metadata": {},
   "outputs": [
    {
     "data": {
      "text/html": [
       "<div>\n",
       "<style scoped>\n",
       "    .dataframe tbody tr th:only-of-type {\n",
       "        vertical-align: middle;\n",
       "    }\n",
       "\n",
       "    .dataframe tbody tr th {\n",
       "        vertical-align: top;\n",
       "    }\n",
       "\n",
       "    .dataframe thead th {\n",
       "        text-align: right;\n",
       "    }\n",
       "</style>\n",
       "<table border=\"1\" class=\"dataframe\">\n",
       "  <thead>\n",
       "    <tr style=\"text-align: right;\">\n",
       "      <th></th>\n",
       "      <th>Source</th>\n",
       "      <th>Date</th>\n",
       "      <th>Title</th>\n",
       "      <th>description</th>\n",
       "      <th>Name</th>\n",
       "      <th>Rating</th>\n",
       "      <th>Version</th>\n",
       "      <th>IOS/Android</th>\n",
       "      <th>TextBefore</th>\n",
       "      <th>TextAfter</th>\n",
       "      <th>Changed</th>\n",
       "    </tr>\n",
       "  </thead>\n",
       "  <tbody>\n",
       "    <tr>\n",
       "      <th>0</th>\n",
       "      <td>My Synovus Mobile Banking</td>\n",
       "      <td>8/23/2019</td>\n",
       "      <td>NaN</td>\n",
       "      <td>It keeps giving me an error with my fingerprint scanner since the last update. Other than that, it's a good app.</td>\n",
       "      <td>Nikki Nyce</td>\n",
       "      <td>3</td>\n",
       "      <td>NaN</td>\n",
       "      <td>Play Store</td>\n",
       "      <td>It keeps giving me an error with my fingerprint scanner since the last update. Other than that, it's a good app.</td>\n",
       "      <td>it keep give error fingerprint scanner sinc last updat other good ap</td>\n",
       "      <td>yes</td>\n",
       "    </tr>\n",
       "    <tr>\n",
       "      <th>1</th>\n",
       "      <td>My Synovus Mobile Banking</td>\n",
       "      <td>8/20/2019</td>\n",
       "      <td>NaN</td>\n",
       "      <td>Where there when I need it.</td>\n",
       "      <td>Leesa Gore</td>\n",
       "      <td>5</td>\n",
       "      <td>NaN</td>\n",
       "      <td>Play Store</td>\n",
       "      <td>Where there when I need it.</td>\n",
       "      <td>where i need</td>\n",
       "      <td>yes</td>\n",
       "    </tr>\n",
       "    <tr>\n",
       "      <th>2</th>\n",
       "      <td>My Synovus Mobile Banking</td>\n",
       "      <td>8/19/2019</td>\n",
       "      <td>NaN</td>\n",
       "      <td>I love being able to check my account. But I lost my phone and I had no way into my account at all till I called.</td>\n",
       "      <td>Sylvia Mabrey</td>\n",
       "      <td>4</td>\n",
       "      <td>NaN</td>\n",
       "      <td>Play Store</td>\n",
       "      <td>I love being able to check my account. But I lost my phone and I had no way into my account at all till I called.</td>\n",
       "      <td>i love abl check account but i lost phone i way account till i call</td>\n",
       "      <td>yes</td>\n",
       "    </tr>\n",
       "    <tr>\n",
       "      <th>3</th>\n",
       "      <td>My Synovus Mobile Banking</td>\n",
       "      <td>8/14/2019</td>\n",
       "      <td>NaN</td>\n",
       "      <td>They stole my id and open account in GA..</td>\n",
       "      <td>Sherye Epps</td>\n",
       "      <td>1</td>\n",
       "      <td>NaN</td>\n",
       "      <td>Play Store</td>\n",
       "      <td>They stole my id and open account in GA..</td>\n",
       "      <td>they stole id open account ga multistop</td>\n",
       "      <td>yes</td>\n",
       "    </tr>\n",
       "    <tr>\n",
       "      <th>4</th>\n",
       "      <td>My Synovus Mobile Banking</td>\n",
       "      <td>8/11/2019</td>\n",
       "      <td>NaN</td>\n",
       "      <td>every time I open the app it says \"application failed to load\". stoptyping i have already updated. twice! sTill SUCKS</td>\n",
       "      <td>A Google User</td>\n",
       "      <td>1</td>\n",
       "      <td>NaN</td>\n",
       "      <td>Play Store</td>\n",
       "      <td>every time I open the app it says \"application failed to load\". stoptyping i have already updated. twice! sTill SUCKS</td>\n",
       "      <td>everi time i open ap say applic fail load stoptyp alreadi updat twice still al_caps_suck</td>\n",
       "      <td>yes</td>\n",
       "    </tr>\n",
       "    <tr>\n",
       "      <th>5</th>\n",
       "      <td>My Synovus Mobile Banking</td>\n",
       "      <td>8/10/2019</td>\n",
       "      <td>NaN</td>\n",
       "      <td>Very helpful and convenient.</td>\n",
       "      <td>Brenden Mercado</td>\n",
       "      <td>4</td>\n",
       "      <td>NaN</td>\n",
       "      <td>Play Store</td>\n",
       "      <td>Very helpful and convenient.</td>\n",
       "      <td>veri help conveni</td>\n",
       "      <td>yes</td>\n",
       "    </tr>\n",
       "    <tr>\n",
       "      <th>6</th>\n",
       "      <td>My Synovus Mobile Banking</td>\n",
       "      <td>8/6/2019</td>\n",
       "      <td>NaN</td>\n",
       "      <td>balance is never correct causing me to overdraft my account. happens every month. not cool</td>\n",
       "      <td>Terrance Green</td>\n",
       "      <td>1</td>\n",
       "      <td>NaN</td>\n",
       "      <td>Play Store</td>\n",
       "      <td>balance is never correct causing me to overdraft my account. happens every month. not cool</td>\n",
       "      <td>balanc never correct caus overdraft account happen everi month cool</td>\n",
       "      <td>yes</td>\n",
       "    </tr>\n",
       "    <tr>\n",
       "      <th>7</th>\n",
       "      <td>My Synovus Mobile Banking</td>\n",
       "      <td>8/1/2019</td>\n",
       "      <td>NaN</td>\n",
       "      <td>synovus mobile apps is too slow! I'm still waiting. almost 1hr now!</td>\n",
       "      <td>Estrella Ernfridsson</td>\n",
       "      <td>1</td>\n",
       "      <td>NaN</td>\n",
       "      <td>Play Store</td>\n",
       "      <td>synovus mobile apps is too slow! I'm still waiting. almost 1hr now!</td>\n",
       "      <td>synovu mobil ap slow still wait almost hr</td>\n",
       "      <td>yes</td>\n",
       "    </tr>\n",
       "    <tr>\n",
       "      <th>8</th>\n",
       "      <td>My Synovus Mobile Banking</td>\n",
       "      <td>7/31/2019</td>\n",
       "      <td>NaN</td>\n",
       "      <td>glitches every few weeks and i have to delete and redownload because it says invalid credentials</td>\n",
       "      <td>DBoi Graves</td>\n",
       "      <td>2</td>\n",
       "      <td>NaN</td>\n",
       "      <td>Play Store</td>\n",
       "      <td>glitches every few weeks and i have to delete and redownload because it says invalid credentials</td>\n",
       "      <td>glitch everi week delet redownload say invalid credenti</td>\n",
       "      <td>yes</td>\n",
       "    </tr>\n",
       "    <tr>\n",
       "      <th>9</th>\n",
       "      <td>My Synovus Mobile Banking</td>\n",
       "      <td>7/29/2019</td>\n",
       "      <td>NaN</td>\n",
       "      <td>I like the location, and the indoor customer service. I like to bank with them because they have ATM that gives 1$ bills. Is excellent for mortgag...</td>\n",
       "      <td>Dialmarys Velez</td>\n",
       "      <td>5</td>\n",
       "      <td>NaN</td>\n",
       "      <td>Play Store</td>\n",
       "      <td>I like the location, and the indoor customer service. I like to bank with them because they have ATM that gives 1$ bills. Is excellent for mortgag...</td>\n",
       "      <td>i like locat indoor custom servic i like bank al_caps_atm give bill is excel mortgag i mine day person access trustworthi friendli synovu great mo...</td>\n",
       "      <td>yes</td>\n",
       "    </tr>\n",
       "  </tbody>\n",
       "</table>\n",
       "</div>"
      ],
      "text/plain": [
       "                      Source       Date Title  \\\n",
       "0  My Synovus Mobile Banking  8/23/2019   NaN   \n",
       "1  My Synovus Mobile Banking  8/20/2019   NaN   \n",
       "2  My Synovus Mobile Banking  8/19/2019   NaN   \n",
       "3  My Synovus Mobile Banking  8/14/2019   NaN   \n",
       "4  My Synovus Mobile Banking  8/11/2019   NaN   \n",
       "5  My Synovus Mobile Banking  8/10/2019   NaN   \n",
       "6  My Synovus Mobile Banking   8/6/2019   NaN   \n",
       "7  My Synovus Mobile Banking   8/1/2019   NaN   \n",
       "8  My Synovus Mobile Banking  7/31/2019   NaN   \n",
       "9  My Synovus Mobile Banking  7/29/2019   NaN   \n",
       "\n",
       "                                                                                                                                             description  \\\n",
       "0                                       It keeps giving me an error with my fingerprint scanner since the last update. Other than that, it's a good app.   \n",
       "1                                                                                                                            Where there when I need it.   \n",
       "2                                      I love being able to check my account. But I lost my phone and I had no way into my account at all till I called.   \n",
       "3                                                                                                              They stole my id and open account in GA..   \n",
       "4                                  every time I open the app it says \"application failed to load\". stoptyping i have already updated. twice! sTill SUCKS   \n",
       "5                                                                                                                           Very helpful and convenient.   \n",
       "6                                                             balance is never correct causing me to overdraft my account. happens every month. not cool   \n",
       "7                                                                                    synovus mobile apps is too slow! I'm still waiting. almost 1hr now!   \n",
       "8                                                       glitches every few weeks and i have to delete and redownload because it says invalid credentials   \n",
       "9  I like the location, and the indoor customer service. I like to bank with them because they have ATM that gives 1$ bills. Is excellent for mortgag...   \n",
       "\n",
       "                   Name  Rating Version IOS/Android  \\\n",
       "0            Nikki Nyce       3     NaN  Play Store   \n",
       "1            Leesa Gore       5     NaN  Play Store   \n",
       "2         Sylvia Mabrey       4     NaN  Play Store   \n",
       "3           Sherye Epps       1     NaN  Play Store   \n",
       "4         A Google User       1     NaN  Play Store   \n",
       "5       Brenden Mercado       4     NaN  Play Store   \n",
       "6        Terrance Green       1     NaN  Play Store   \n",
       "7  Estrella Ernfridsson       1     NaN  Play Store   \n",
       "8           DBoi Graves       2     NaN  Play Store   \n",
       "9       Dialmarys Velez       5     NaN  Play Store   \n",
       "\n",
       "                                                                                                                                              TextBefore  \\\n",
       "0                                       It keeps giving me an error with my fingerprint scanner since the last update. Other than that, it's a good app.   \n",
       "1                                                                                                                            Where there when I need it.   \n",
       "2                                      I love being able to check my account. But I lost my phone and I had no way into my account at all till I called.   \n",
       "3                                                                                                              They stole my id and open account in GA..   \n",
       "4                                  every time I open the app it says \"application failed to load\". stoptyping i have already updated. twice! sTill SUCKS   \n",
       "5                                                                                                                           Very helpful and convenient.   \n",
       "6                                                             balance is never correct causing me to overdraft my account. happens every month. not cool   \n",
       "7                                                                                    synovus mobile apps is too slow! I'm still waiting. almost 1hr now!   \n",
       "8                                                       glitches every few weeks and i have to delete and redownload because it says invalid credentials   \n",
       "9  I like the location, and the indoor customer service. I like to bank with them because they have ATM that gives 1$ bills. Is excellent for mortgag...   \n",
       "\n",
       "                                                                                                                                               TextAfter  \\\n",
       "0                                                                                   it keep give error fingerprint scanner sinc last updat other good ap   \n",
       "1                                                                                                                                           where i need   \n",
       "2                                                                                    i love abl check account but i lost phone i way account till i call   \n",
       "3                                                                                                                they stole id open account ga multistop   \n",
       "4                                                               everi time i open ap say applic fail load stoptyp alreadi updat twice still al_caps_suck   \n",
       "5                                                                                                                                      veri help conveni   \n",
       "6                                                                                    balanc never correct caus overdraft account happen everi month cool   \n",
       "7                                                                                                              synovu mobil ap slow still wait almost hr   \n",
       "8                                                                                                glitch everi week delet redownload say invalid credenti   \n",
       "9  i like locat indoor custom servic i like bank al_caps_atm give bill is excel mortgag i mine day person access trustworthi friendli synovu great mo...   \n",
       "\n",
       "  Changed  \n",
       "0     yes  \n",
       "1     yes  \n",
       "2     yes  \n",
       "3     yes  \n",
       "4     yes  \n",
       "5     yes  \n",
       "6     yes  \n",
       "7     yes  \n",
       "8     yes  \n",
       "9     yes  "
      ]
     },
     "execution_count": 89,
     "metadata": {},
     "output_type": "execute_result"
    }
   ],
   "source": [
    "cleansed_data = pd.concat([reviews, text_combos],axis =1 , sort = False)\n",
    "cleansed_data.head(10)"
   ]
  },
  {
   "cell_type": "markdown",
   "metadata": {},
   "source": []
  },
  {
   "cell_type": "markdown",
   "metadata": {},
   "source": [
    "# Finding Sentiments:"
   ]
  },
  {
   "cell_type": "markdown",
   "metadata": {},
   "source": [
    "Now we got our data in a good shape and in a clean format. We should now focus on calculating the sentiments of the customers reviews. \n",
    "\n",
    "There are mainly two approaches for performing sentiment analysis.\n",
    "\n",
    "- Lexicon-based: count number of positive and negative words in given text and the larger count will be the sentiment of text.\n",
    "\n",
    "- Machine learning based approach: Develop a classification model, which is trained using the pre-labeled dataset of positive, negative, and neutral.\n",
    "\n",
    "\n",
    "My idea is combine the two approaches and come up with a multi hybrid approach to to predict the sentiments for the MySynovus reviews.But, here is a problem with Machine Learning approach, we don't have a pre-labled dataset for synovus reviews where we could train different models on the pre-labled data and later come up with the best model to predict the sentiment of the reviews. I'm thinking to use the model trained using thousands of pre-classified tweets.Bottom line point is \n",
    "\n",
    "Multi Hybrid Approach:\n",
    "\n",
    "- Lexicon: Applying Vader Algorithm and TextBlob Algorithm on the description of the review and the title of the review\n",
    "\n",
    "- ML Based: Applying the model trained on classifying the Tweets  \n",
    "\n",
    "  "
   ]
  },
  {
   "cell_type": "code",
   "execution_count": 90,
   "metadata": {},
   "outputs": [],
   "source": [
    "cleansed_data = cleansed_data[cleansed_data['Date'] >= '2019-01-01']"
   ]
  },
  {
   "cell_type": "code",
   "execution_count": 91,
   "metadata": {},
   "outputs": [
    {
     "name": "stderr",
     "output_type": "stream",
     "text": [
      "[nltk_data] Downloading package vader_lexicon to\n",
      "[nltk_data]     C:\\Users\\saira\\AppData\\Roaming\\nltk_data...\n",
      "[nltk_data]   Package vader_lexicon is already up-to-date!\n"
     ]
    },
    {
     "data": {
      "text/plain": [
       "True"
      ]
     },
     "execution_count": 91,
     "metadata": {},
     "output_type": "execute_result"
    }
   ],
   "source": [
    "import nltk\n",
    "nltk.download('vader_lexicon')"
   ]
  },
  {
   "cell_type": "code",
   "execution_count": 92,
   "metadata": {},
   "outputs": [],
   "source": [
    "#Tuning the sentiments of the words specific to our area\n",
    "\n",
    "new_words = {\n",
    "    'freeze': -1,\n",
    "    'error': -1,\n",
    "    'reinstall': -1,\n",
    "    'uninstall': -1,\n",
    "    'fix': -1,\n",
    "    'garbage': -1,\n",
    "    'terrible': -1,\n",
    "    'balance': -1,\n",
    "    'slow': -1,\n",
    "    'crashes': -1\n",
    "}"
   ]
  },
  {
   "cell_type": "code",
   "execution_count": 93,
   "metadata": {},
   "outputs": [],
   "source": [
    "from nltk.sentiment.vader import SentimentIntensityAnalyzer\n",
    "sai = SentimentIntensityAnalyzer()\n",
    "sai.lexicon.update(new_words)"
   ]
  },
  {
   "cell_type": "code",
   "execution_count": 94,
   "metadata": {},
   "outputs": [],
   "source": [
    "# Add a new column with scores JSON\n",
    "#Applying Vader approch to the descriptions of the reviews\n",
    "cleansed_data['scores'] = cleansed_data['TextAfter'].apply(lambda review:sai.polarity_scores(review))\n",
    "\n",
    "#Add a new column with the compound score value extracted from score column\n",
    "cleansed_data['vader_compound'] = cleansed_data['scores'].apply(lambda d:d['compound'])\n",
    "cleansed_data['vader_positive'] = cleansed_data['scores'].apply(lambda d:d['pos'])\n",
    "cleansed_data['vader_negative'] = cleansed_data['scores'].apply(lambda d:d['neg'])\n",
    "cleansed_data['vader_compscore'] = cleansed_data['vader_compound'].apply(lambda score: 'positive' if score>=0.05 else('negative' if score <= -0.05 else 'neutral'))"
   ]
  },
  {
   "cell_type": "code",
   "execution_count": 95,
   "metadata": {},
   "outputs": [],
   "source": [
    "# def tokenize2(text):\n",
    "#     finalTokens = []\n",
    "#     tokens = nltk.word_tokenize(text)\n",
    "#     for w in tokens:\n",
    "#         if (w not in stoplist):\n",
    "#             #w = addCapTag(w) # Handle Capitalized Words\n",
    "#             #w = w.lower() # Lowercase\n",
    "#             w = replaceElongated(w) # Replace Elongated Words\n",
    "#             w = stemmer.stem(w) # Stemming\n",
    "#             finalTokens.append(w)\n",
    "#     text = \" \".join(finalTokens)\n",
    "#     return text\n",
    "\n",
    "\n",
    "# title_combos = pd.DataFrame(columns=['TitleBefore', 'TitleAfter', 'Changed'])\n",
    "# title_combos['TitleBefore'] = title.copy()"
   ]
  },
  {
   "cell_type": "code",
   "execution_count": 96,
   "metadata": {},
   "outputs": [],
   "source": [
    "# for index, row in text_combos.iterrows():\n",
    "#     #row['TitleAfter'] = replaceContraction((row['TitleBefore'])) # Replace Contractions\n",
    "#     row['TitleAfter'] = removeNumbers(str(row['TitleAfter'])) # Remove Integers\n",
    "#     row['TitleAfter'] = replaceMultiExclamationMark(str(row['TitleAfter'])) # Replace Multi Exclamation Marks\n",
    "#     row['TitleAfter'] = replaceMultiQuestionMark(str(row['TitleAfter'])) # Replace Multi Question Marks\n",
    "#     row['TitleAfter'] = replaceMultiStopMark(str(row['TitleAfter'])) # Repalce Multi Stop Marks\n",
    "#     row['TitleAfter'] = str(row['TitleAfter']).translate(translator) # Remove Punctuation\n",
    "#     row['TitleAfter'] = tokenize2(str(row['TitleAfter']))"
   ]
  },
  {
   "cell_type": "code",
   "execution_count": 97,
   "metadata": {},
   "outputs": [],
   "source": [
    "# Add a new column with scores JSON\n",
    "#Applying Vader approch to the Titles of the reviews\n",
    "cleansed_data['Title_scores'] = cleansed_data['Title'].apply(lambda review:sai.polarity_scores(str(review)))\n",
    "cleansed_data['Title_vader_compound'] = cleansed_data['Title_scores'].apply(lambda d:d['compound'])\n",
    "cleansed_data['Title_vader_compscore'] = cleansed_data['Title_vader_compound'].apply(lambda score: 'positive' if score>=0.05 else('negative' if score <= -0.05 else 'neutral'))"
   ]
  },
  {
   "cell_type": "code",
   "execution_count": 98,
   "metadata": {},
   "outputs": [],
   "source": [
    "#APplying Textblob appraoch on the descriptions of the reviews\n",
    "from textblob import TextBlob\n",
    "def detect_polarity(TextAfter):\n",
    "    return TextBlob(TextAfter).sentiment.polarity \n",
    "def detect_subjectivity(TextAfter):\n",
    "    return TextBlob(TextAfter).sentiment.subjectivity\n",
    "\n",
    "cleansed_data['polarity'] = cleansed_data.TextAfter.apply(detect_polarity)\n",
    "cleansed_data['subjectivity'] = cleansed_data.TextAfter.apply(detect_subjectivity)\n",
    "cleansed_data['textblob_score'] = cleansed_data['polarity'].apply(lambda polarity: 'positive' if polarity > 0 else 'negative')"
   ]
  },
  {
   "cell_type": "code",
   "execution_count": 99,
   "metadata": {},
   "outputs": [],
   "source": [
    "#APplying Textblob appraoch on the Titles of the reviews\n",
    "from textblob import TextBlob\n",
    "def detect_polarity(Title):\n",
    "    return TextBlob(str(Title)).sentiment.polarity \n",
    "def detect_subjectivity(Title):\n",
    "    return TextBlob(str(Title)).sentiment.subjectivity\n"
   ]
  },
  {
   "cell_type": "code",
   "execution_count": 100,
   "metadata": {},
   "outputs": [],
   "source": [
    "cleansed_data['Title_polarity'] = cleansed_data['Title'].apply(detect_polarity)\n",
    "cleansed_data['Title_subjectivity'] = cleansed_data['Title'].apply(detect_subjectivity)\n",
    "cleansed_data['Title_textblob_score'] = cleansed_data['Title_polarity'].apply(lambda polarity: 'positive' if polarity > 0 else 'negative')\n",
    "cleansed_data['rating_score'] = np.where(cleansed_data['Rating'] > 2,'positive', 'negative')"
   ]
  },
  {
   "cell_type": "code",
   "execution_count": 101,
   "metadata": {},
   "outputs": [
    {
     "data": {
      "text/html": [
       "<div>\n",
       "<style scoped>\n",
       "    .dataframe tbody tr th:only-of-type {\n",
       "        vertical-align: middle;\n",
       "    }\n",
       "\n",
       "    .dataframe tbody tr th {\n",
       "        vertical-align: top;\n",
       "    }\n",
       "\n",
       "    .dataframe thead th {\n",
       "        text-align: right;\n",
       "    }\n",
       "</style>\n",
       "<table border=\"1\" class=\"dataframe\">\n",
       "  <thead>\n",
       "    <tr style=\"text-align: right;\">\n",
       "      <th></th>\n",
       "      <th>Source</th>\n",
       "      <th>Date</th>\n",
       "      <th>Title</th>\n",
       "      <th>description</th>\n",
       "      <th>Name</th>\n",
       "      <th>Rating</th>\n",
       "      <th>Version</th>\n",
       "      <th>IOS/Android</th>\n",
       "      <th>TextBefore</th>\n",
       "      <th>TextAfter</th>\n",
       "      <th>Changed</th>\n",
       "      <th>scores</th>\n",
       "      <th>vader_compound</th>\n",
       "      <th>vader_positive</th>\n",
       "      <th>vader_negative</th>\n",
       "      <th>vader_compscore</th>\n",
       "      <th>Title_scores</th>\n",
       "      <th>Title_vader_compound</th>\n",
       "      <th>Title_vader_compscore</th>\n",
       "      <th>polarity</th>\n",
       "      <th>subjectivity</th>\n",
       "      <th>textblob_score</th>\n",
       "      <th>Title_polarity</th>\n",
       "      <th>Title_subjectivity</th>\n",
       "      <th>Title_textblob_score</th>\n",
       "      <th>rating_score</th>\n",
       "    </tr>\n",
       "  </thead>\n",
       "  <tbody>\n",
       "    <tr>\n",
       "      <th>0</th>\n",
       "      <td>My Synovus Mobile Banking</td>\n",
       "      <td>8/23/2019</td>\n",
       "      <td>NaN</td>\n",
       "      <td>It keeps giving me an error with my fingerprint scanner since the last update. Other than that, it's a good app.</td>\n",
       "      <td>Nikki Nyce</td>\n",
       "      <td>3</td>\n",
       "      <td>NaN</td>\n",
       "      <td>Play Store</td>\n",
       "      <td>It keeps giving me an error with my fingerprint scanner since the last update. Other than that, it's a good app.</td>\n",
       "      <td>it keep give error fingerprint scanner sinc last updat other good ap</td>\n",
       "      <td>yes</td>\n",
       "      <td>{'neg': 0.134, 'neu': 0.671, 'pos': 0.195, 'compound': 0.2263}</td>\n",
       "      <td>0.2263</td>\n",
       "      <td>0.195</td>\n",
       "      <td>0.134</td>\n",
       "      <td>positive</td>\n",
       "      <td>{'neg': 0.0, 'neu': 1.0, 'pos': 0.0, 'compound': 0.0}</td>\n",
       "      <td>0.0</td>\n",
       "      <td>neutral</td>\n",
       "      <td>0.191667</td>\n",
       "      <td>0.347222</td>\n",
       "      <td>positive</td>\n",
       "      <td>0.0</td>\n",
       "      <td>0.0</td>\n",
       "      <td>negative</td>\n",
       "      <td>positive</td>\n",
       "    </tr>\n",
       "    <tr>\n",
       "      <th>1</th>\n",
       "      <td>My Synovus Mobile Banking</td>\n",
       "      <td>8/20/2019</td>\n",
       "      <td>NaN</td>\n",
       "      <td>Where there when I need it.</td>\n",
       "      <td>Leesa Gore</td>\n",
       "      <td>5</td>\n",
       "      <td>NaN</td>\n",
       "      <td>Play Store</td>\n",
       "      <td>Where there when I need it.</td>\n",
       "      <td>where i need</td>\n",
       "      <td>yes</td>\n",
       "      <td>{'neg': 0.0, 'neu': 1.0, 'pos': 0.0, 'compound': 0.0}</td>\n",
       "      <td>0.0000</td>\n",
       "      <td>0.000</td>\n",
       "      <td>0.000</td>\n",
       "      <td>neutral</td>\n",
       "      <td>{'neg': 0.0, 'neu': 1.0, 'pos': 0.0, 'compound': 0.0}</td>\n",
       "      <td>0.0</td>\n",
       "      <td>neutral</td>\n",
       "      <td>0.000000</td>\n",
       "      <td>0.000000</td>\n",
       "      <td>negative</td>\n",
       "      <td>0.0</td>\n",
       "      <td>0.0</td>\n",
       "      <td>negative</td>\n",
       "      <td>positive</td>\n",
       "    </tr>\n",
       "    <tr>\n",
       "      <th>2</th>\n",
       "      <td>My Synovus Mobile Banking</td>\n",
       "      <td>8/19/2019</td>\n",
       "      <td>NaN</td>\n",
       "      <td>I love being able to check my account. But I lost my phone and I had no way into my account at all till I called.</td>\n",
       "      <td>Sylvia Mabrey</td>\n",
       "      <td>4</td>\n",
       "      <td>NaN</td>\n",
       "      <td>Play Store</td>\n",
       "      <td>I love being able to check my account. But I lost my phone and I had no way into my account at all till I called.</td>\n",
       "      <td>i love abl check account but i lost phone i way account till i call</td>\n",
       "      <td>yes</td>\n",
       "      <td>{'neg': 0.203, 'neu': 0.619, 'pos': 0.179, 'compound': -0.09}</td>\n",
       "      <td>-0.0900</td>\n",
       "      <td>0.179</td>\n",
       "      <td>0.203</td>\n",
       "      <td>negative</td>\n",
       "      <td>{'neg': 0.0, 'neu': 1.0, 'pos': 0.0, 'compound': 0.0}</td>\n",
       "      <td>0.0</td>\n",
       "      <td>neutral</td>\n",
       "      <td>0.500000</td>\n",
       "      <td>0.600000</td>\n",
       "      <td>positive</td>\n",
       "      <td>0.0</td>\n",
       "      <td>0.0</td>\n",
       "      <td>negative</td>\n",
       "      <td>positive</td>\n",
       "    </tr>\n",
       "    <tr>\n",
       "      <th>3</th>\n",
       "      <td>My Synovus Mobile Banking</td>\n",
       "      <td>8/14/2019</td>\n",
       "      <td>NaN</td>\n",
       "      <td>They stole my id and open account in GA..</td>\n",
       "      <td>Sherye Epps</td>\n",
       "      <td>1</td>\n",
       "      <td>NaN</td>\n",
       "      <td>Play Store</td>\n",
       "      <td>They stole my id and open account in GA..</td>\n",
       "      <td>they stole id open account ga multistop</td>\n",
       "      <td>yes</td>\n",
       "      <td>{'neg': 0.0, 'neu': 1.0, 'pos': 0.0, 'compound': 0.0}</td>\n",
       "      <td>0.0000</td>\n",
       "      <td>0.000</td>\n",
       "      <td>0.000</td>\n",
       "      <td>neutral</td>\n",
       "      <td>{'neg': 0.0, 'neu': 1.0, 'pos': 0.0, 'compound': 0.0}</td>\n",
       "      <td>0.0</td>\n",
       "      <td>neutral</td>\n",
       "      <td>0.000000</td>\n",
       "      <td>0.500000</td>\n",
       "      <td>negative</td>\n",
       "      <td>0.0</td>\n",
       "      <td>0.0</td>\n",
       "      <td>negative</td>\n",
       "      <td>negative</td>\n",
       "    </tr>\n",
       "    <tr>\n",
       "      <th>4</th>\n",
       "      <td>My Synovus Mobile Banking</td>\n",
       "      <td>8/11/2019</td>\n",
       "      <td>NaN</td>\n",
       "      <td>every time I open the app it says \"application failed to load\". stoptyping i have already updated. twice! sTill SUCKS</td>\n",
       "      <td>A Google User</td>\n",
       "      <td>1</td>\n",
       "      <td>NaN</td>\n",
       "      <td>Play Store</td>\n",
       "      <td>every time I open the app it says \"application failed to load\". stoptyping i have already updated. twice! sTill SUCKS</td>\n",
       "      <td>everi time i open ap say applic fail load stoptyp alreadi updat twice still al_caps_suck</td>\n",
       "      <td>yes</td>\n",
       "      <td>{'neg': 0.212, 'neu': 0.788, 'pos': 0.0, 'compound': -0.5423}</td>\n",
       "      <td>-0.5423</td>\n",
       "      <td>0.000</td>\n",
       "      <td>0.212</td>\n",
       "      <td>negative</td>\n",
       "      <td>{'neg': 0.0, 'neu': 1.0, 'pos': 0.0, 'compound': 0.0}</td>\n",
       "      <td>0.0</td>\n",
       "      <td>neutral</td>\n",
       "      <td>-0.250000</td>\n",
       "      <td>0.400000</td>\n",
       "      <td>negative</td>\n",
       "      <td>0.0</td>\n",
       "      <td>0.0</td>\n",
       "      <td>negative</td>\n",
       "      <td>negative</td>\n",
       "    </tr>\n",
       "  </tbody>\n",
       "</table>\n",
       "</div>"
      ],
      "text/plain": [
       "                      Source       Date Title  \\\n",
       "0  My Synovus Mobile Banking  8/23/2019   NaN   \n",
       "1  My Synovus Mobile Banking  8/20/2019   NaN   \n",
       "2  My Synovus Mobile Banking  8/19/2019   NaN   \n",
       "3  My Synovus Mobile Banking  8/14/2019   NaN   \n",
       "4  My Synovus Mobile Banking  8/11/2019   NaN   \n",
       "\n",
       "                                                                                                             description  \\\n",
       "0       It keeps giving me an error with my fingerprint scanner since the last update. Other than that, it's a good app.   \n",
       "1                                                                                            Where there when I need it.   \n",
       "2      I love being able to check my account. But I lost my phone and I had no way into my account at all till I called.   \n",
       "3                                                                              They stole my id and open account in GA..   \n",
       "4  every time I open the app it says \"application failed to load\". stoptyping i have already updated. twice! sTill SUCKS   \n",
       "\n",
       "            Name  Rating Version IOS/Android  \\\n",
       "0     Nikki Nyce       3     NaN  Play Store   \n",
       "1     Leesa Gore       5     NaN  Play Store   \n",
       "2  Sylvia Mabrey       4     NaN  Play Store   \n",
       "3    Sherye Epps       1     NaN  Play Store   \n",
       "4  A Google User       1     NaN  Play Store   \n",
       "\n",
       "                                                                                                              TextBefore  \\\n",
       "0       It keeps giving me an error with my fingerprint scanner since the last update. Other than that, it's a good app.   \n",
       "1                                                                                            Where there when I need it.   \n",
       "2      I love being able to check my account. But I lost my phone and I had no way into my account at all till I called.   \n",
       "3                                                                              They stole my id and open account in GA..   \n",
       "4  every time I open the app it says \"application failed to load\". stoptyping i have already updated. twice! sTill SUCKS   \n",
       "\n",
       "                                                                                  TextAfter  \\\n",
       "0                      it keep give error fingerprint scanner sinc last updat other good ap   \n",
       "1                                                                              where i need   \n",
       "2                       i love abl check account but i lost phone i way account till i call   \n",
       "3                                                   they stole id open account ga multistop   \n",
       "4  everi time i open ap say applic fail load stoptyp alreadi updat twice still al_caps_suck   \n",
       "\n",
       "  Changed                                                          scores  \\\n",
       "0     yes  {'neg': 0.134, 'neu': 0.671, 'pos': 0.195, 'compound': 0.2263}   \n",
       "1     yes           {'neg': 0.0, 'neu': 1.0, 'pos': 0.0, 'compound': 0.0}   \n",
       "2     yes   {'neg': 0.203, 'neu': 0.619, 'pos': 0.179, 'compound': -0.09}   \n",
       "3     yes           {'neg': 0.0, 'neu': 1.0, 'pos': 0.0, 'compound': 0.0}   \n",
       "4     yes   {'neg': 0.212, 'neu': 0.788, 'pos': 0.0, 'compound': -0.5423}   \n",
       "\n",
       "   vader_compound  vader_positive  vader_negative vader_compscore  \\\n",
       "0          0.2263           0.195           0.134        positive   \n",
       "1          0.0000           0.000           0.000         neutral   \n",
       "2         -0.0900           0.179           0.203        negative   \n",
       "3          0.0000           0.000           0.000         neutral   \n",
       "4         -0.5423           0.000           0.212        negative   \n",
       "\n",
       "                                            Title_scores  \\\n",
       "0  {'neg': 0.0, 'neu': 1.0, 'pos': 0.0, 'compound': 0.0}   \n",
       "1  {'neg': 0.0, 'neu': 1.0, 'pos': 0.0, 'compound': 0.0}   \n",
       "2  {'neg': 0.0, 'neu': 1.0, 'pos': 0.0, 'compound': 0.0}   \n",
       "3  {'neg': 0.0, 'neu': 1.0, 'pos': 0.0, 'compound': 0.0}   \n",
       "4  {'neg': 0.0, 'neu': 1.0, 'pos': 0.0, 'compound': 0.0}   \n",
       "\n",
       "   Title_vader_compound Title_vader_compscore  polarity  subjectivity  \\\n",
       "0                   0.0               neutral  0.191667      0.347222   \n",
       "1                   0.0               neutral  0.000000      0.000000   \n",
       "2                   0.0               neutral  0.500000      0.600000   \n",
       "3                   0.0               neutral  0.000000      0.500000   \n",
       "4                   0.0               neutral -0.250000      0.400000   \n",
       "\n",
       "  textblob_score  Title_polarity  Title_subjectivity Title_textblob_score  \\\n",
       "0       positive             0.0                 0.0             negative   \n",
       "1       negative             0.0                 0.0             negative   \n",
       "2       positive             0.0                 0.0             negative   \n",
       "3       negative             0.0                 0.0             negative   \n",
       "4       negative             0.0                 0.0             negative   \n",
       "\n",
       "  rating_score  \n",
       "0     positive  \n",
       "1     positive  \n",
       "2     positive  \n",
       "3     negative  \n",
       "4     negative  "
      ]
     },
     "execution_count": 101,
     "metadata": {},
     "output_type": "execute_result"
    }
   ],
   "source": [
    "pd.set_option('display.max_columns', None)\n",
    "cleansed_data.head()"
   ]
  },
  {
   "cell_type": "code",
   "execution_count": null,
   "metadata": {},
   "outputs": [],
   "source": [
    "# labels = df_train.target.unique().tolist()\n",
    "# labels.append(NEUTRAL)\n",
    "# labels"
   ]
  },
  {
   "cell_type": "code",
   "execution_count": null,
   "metadata": {},
   "outputs": [],
   "source": [
    "# encoder = LabelEncoder()\n",
    "# encoder.fit(df_train.target.tolist())\n",
    "\n",
    "# y_train = encoder.transform(df_train.target.tolist())\n",
    "# y_test = encoder.transform(df_test.target.tolist())\n",
    "\n",
    "# y_train = y_train.reshape(-1,1)\n",
    "# y_test = y_test.reshape(-1,1)\n",
    "\n",
    "# print(\"y_train\",y_train.shape)\n",
    "# print(\"y_test\",y_test.shape)"
   ]
  },
  {
   "cell_type": "code",
   "execution_count": null,
   "metadata": {},
   "outputs": [],
   "source": [
    "# embedding_matrix = np.zeros((vocab_size, W2V_SIZE))\n",
    "# for word, i in tokenizer.word_index.items():\n",
    "#   if word in w2v_model.wv:\n",
    "#     embedding_matrix[i] = w2v_model.wv[word]\n",
    "# print(embedding_matrix.shape)"
   ]
  },
  {
   "cell_type": "code",
   "execution_count": null,
   "metadata": {},
   "outputs": [],
   "source": [
    "# model = Sequential()\n",
    "# model.add(embedding_layer)\n",
    "# model.add(Dropout(0.5))\n",
    "# model.add(LSTM(100, dropout=0.2, recurrent_dropout=0.2))\n",
    "# model.add(Dense(1, activation='sigmoid'))\n",
    "\n",
    "# model.summary()"
   ]
  },
  {
   "cell_type": "code",
   "execution_count": null,
   "metadata": {},
   "outputs": [],
   "source": [
    "# %%time\n",
    "# history = model.fit(x_train, y_train,\n",
    "#                     batch_size=BATCH_SIZE,\n",
    "#                     epochs=EPOCHS,\n",
    "#                     validation_split=0.1,\n",
    "#                     verbose=1,\n",
    "#                     callbacks=callbacks)"
   ]
  },
  {
   "cell_type": "code",
   "execution_count": null,
   "metadata": {},
   "outputs": [],
   "source": [
    "# %%time\n",
    "# score = model.evaluate(x_test, y_test, batch_size=BATCH_SIZE)\n",
    "# print()\n",
    "# print(\"ACCURACY:\",score[1])\n",
    "# print(\"LOSS:\",score[0])"
   ]
  },
  {
   "cell_type": "code",
   "execution_count": 108,
   "metadata": {},
   "outputs": [],
   "source": [
    "# cleansed_data = cleansed_data.replace('positive', 1)\n",
    "# cleansed_data = cleansed_data.replace('negative', -1)\n",
    "# cleansed_data = cleansed_data.replace('neutral', 0)\n",
    "# cleansed_data['Total sentiment'] = np.where((cleansed_data['vader_compscore'] +cleansed_data['textblob_score'] + cleansed_data['Title_textblob_score'] +cleansed_data['Title_vader_compscore'] + cleansed_data['rating_score'] ) > 0, 'positive', 'negative')"
   ]
  },
  {
   "cell_type": "markdown",
   "metadata": {},
   "source": [
    "Alright, we have successfully classified the sentiments of the reviews, but, how do we determine the accuracy of our approach?"
   ]
  },
  {
   "cell_type": "code",
   "execution_count": 109,
   "metadata": {},
   "outputs": [
    {
     "data": {
      "text/html": [
       "<div>\n",
       "<style scoped>\n",
       "    .dataframe tbody tr th:only-of-type {\n",
       "        vertical-align: middle;\n",
       "    }\n",
       "\n",
       "    .dataframe tbody tr th {\n",
       "        vertical-align: top;\n",
       "    }\n",
       "\n",
       "    .dataframe thead th {\n",
       "        text-align: right;\n",
       "    }\n",
       "</style>\n",
       "<table border=\"1\" class=\"dataframe\">\n",
       "  <thead>\n",
       "    <tr style=\"text-align: right;\">\n",
       "      <th>Ratings</th>\n",
       "      <th>1</th>\n",
       "      <th>2</th>\n",
       "      <th>3</th>\n",
       "      <th>4</th>\n",
       "      <th>5</th>\n",
       "      <th>All</th>\n",
       "    </tr>\n",
       "    <tr>\n",
       "      <th>Predicted sentiment</th>\n",
       "      <th></th>\n",
       "      <th></th>\n",
       "      <th></th>\n",
       "      <th></th>\n",
       "      <th></th>\n",
       "      <th></th>\n",
       "    </tr>\n",
       "  </thead>\n",
       "  <tbody>\n",
       "    <tr>\n",
       "      <th>negative</th>\n",
       "      <td>230</td>\n",
       "      <td>65</td>\n",
       "      <td>10</td>\n",
       "      <td>11</td>\n",
       "      <td>21</td>\n",
       "      <td>337</td>\n",
       "    </tr>\n",
       "    <tr>\n",
       "      <th>positive</th>\n",
       "      <td>11</td>\n",
       "      <td>7</td>\n",
       "      <td>24</td>\n",
       "      <td>17</td>\n",
       "      <td>55</td>\n",
       "      <td>114</td>\n",
       "    </tr>\n",
       "    <tr>\n",
       "      <th>All</th>\n",
       "      <td>241</td>\n",
       "      <td>72</td>\n",
       "      <td>34</td>\n",
       "      <td>28</td>\n",
       "      <td>76</td>\n",
       "      <td>451</td>\n",
       "    </tr>\n",
       "  </tbody>\n",
       "</table>\n",
       "</div>"
      ],
      "text/plain": [
       "Ratings                1   2   3   4   5  All\n",
       "Predicted sentiment                          \n",
       "negative             230  65  10  11  21  337\n",
       "positive              11   7  24  17  55  114\n",
       "All                  241  72  34  28  76  451"
      ]
     },
     "execution_count": 109,
     "metadata": {},
     "output_type": "execute_result"
    }
   ],
   "source": [
    " pd.crosstab(cleansed_data['Total sentiment'],cleansed_data['Rating'], rownames=['Predicted sentiment'], colnames=['Ratings'],margins=True)"
   ]
  },
  {
   "cell_type": "markdown",
   "metadata": {},
   "source": [
    "337 out of 451 reviews, 74.7%, of the total reviews have negative sentiments. Majority of the one star and two star reviews have negative sentiments which makes sense that customers who are not happy with  one of the aspects of the service/app made them rate One or Two stars. We could confidently say that our model's accuracy is very good. "
   ]
  },
  {
   "cell_type": "markdown",
   "metadata": {},
   "source": [
    "# Next Steps"
   ]
  },
  {
   "cell_type": "markdown",
   "metadata": {},
   "source": [
    "How cool will this be if we build this in real time? Just like AppDynamics, a performance monitoring tool; we could build something similar to AppD which acts like a social media monitoring tool giving us the overall sentiment of customers reviews/posts/comments filtering by the duration of the posts?????"
   ]
  },
  {
   "cell_type": "code",
   "execution_count": null,
   "metadata": {},
   "outputs": [],
   "source": []
  }
 ],
 "metadata": {
  "kernelspec": {
   "display_name": "Python 3",
   "language": "python",
   "name": "python3"
  },
  "language_info": {
   "codemirror_mode": {
    "name": "ipython",
    "version": 3
   },
   "file_extension": ".py",
   "mimetype": "text/x-python",
   "name": "python",
   "nbconvert_exporter": "python",
   "pygments_lexer": "ipython3",
   "version": "3.6.8"
  }
 },
 "nbformat": 4,
 "nbformat_minor": 1
}
